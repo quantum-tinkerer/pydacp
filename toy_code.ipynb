{
 "cells": [
  {
   "cell_type": "code",
   "execution_count": 1,
   "id": "fa31c3b9-1d02-4fc8-92c8-31091e38700f",
   "metadata": {},
   "outputs": [],
   "source": [
    "import numpy as np\n",
    "from scipy.linalg import eigvals\n",
    "import matplotlib.pyplot as plt\n",
    "from numba import njit\n",
    "\n",
    "from scipy.sparse import eye, diags"
   ]
  },
  {
   "cell_type": "code",
   "execution_count": 2,
   "id": "e6d4bc76-210a-4acb-a507-8273cfde43b0",
   "metadata": {},
   "outputs": [],
   "source": [
    "N = 10000\n",
    "H = diags(np.linspace(-1, 1, N))\n",
    "a = 0.1\n",
    "\n",
    "def G_operator(ham, Emax, Emin):\n",
    "    Emax=Emax+0.05\n",
    "    Emin=Emin-0.05\n",
    "    E0 = (Emax - Emin)/2\n",
    "    Ec = (Emax + Emin)/2\n",
    "    return (ham - eye(ham.shape[0]) * Ec)/E0\n",
    "\n",
    "\n",
    "def F_operator(ham, Emax, a):\n",
    "    Emax=Emax+0.05\n",
    "    E0 = (Emax**2 - a**2)/2\n",
    "    Ec = (Emax**2 + a**2)/2\n",
    "    return (ham @ ham - eye(ham.shape[0]) * Ec)/E0\n",
    "\n",
    "\n",
    "G = G_operator(H, 1, -1)\n",
    "F = F_operator(H, 1, a)\n",
    "a_r = a/1"
   ]
  },
  {
   "cell_type": "code",
   "execution_count": 3,
   "id": "53e3621e-2a6b-4ce6-8955-4130ecad2eb6",
   "metadata": {},
   "outputs": [],
   "source": [
    "def low_E_filter(ψ_rand, H, k):\n",
    "    for i in range(k):\n",
    "        if i == 0:\n",
    "            ψ_n = ψ_rand\n",
    "            continue\n",
    "            \n",
    "        if i == 1:\n",
    "            ψ_nm1 = ψ_n\n",
    "            ψ_n = H@ψ_nm1\n",
    "            continue\n",
    "            \n",
    "        ψ_np1 = 2*H@ψ_n - ψ_nm1\n",
    "        ψ_nm1 = ψ_n\n",
    "        ψ_n = ψ_np1\n",
    "        \n",
    "    return ψ_n\n",
    "\n",
    "def basis(ψ_proj, H, indices):\n",
    "    ψ_basis = []\n",
    "    k = indices[-1]\n",
    "    for i in range(k):\n",
    "        if i == 0:\n",
    "            ψ_n = ψ_proj\n",
    "            continue\n",
    "            \n",
    "        if i == 1:\n",
    "            ψ_nm1 = ψ_n\n",
    "            ψ_n = H@ψ_nm1\n",
    "            continue\n",
    "            \n",
    "        ψ_np1 = 2*H@ψ_n - ψ_nm1\n",
    "        ψ_nm1 = ψ_n\n",
    "        ψ_n = ψ_np1\n",
    "        \n",
    "        if i in indices:\n",
    "            ψ_basis.append(ψ_n)\n",
    "            \n",
    "    return ψ_basis"
   ]
  },
  {
   "cell_type": "code",
   "execution_count": 4,
   "id": "1b01dc5a-fe88-4fbc-acfb-d6bcbfd139ec",
   "metadata": {},
   "outputs": [
    {
     "data": {
      "text/plain": [
       "[<matplotlib.lines.Line2D at 0x7f421f108040>]"
      ]
     },
     "execution_count": 4,
     "metadata": {},
     "output_type": "execute_result"
    },
    {
     "data": {
      "image/png": "[encoded data removed]",
      "text/plain": [
       "<Figure size 432x288 with 1 Axes>"
      ]
     },
     "metadata": {
      "needs_background": "light"
     },
     "output_type": "display_data"
    }
   ],
   "source": [
    "ψ_rand = np.random.rand(N)\n",
    "ψ_rand = ψ_rand/np.linalg.norm(ψ_rand)\n",
    "ψ_proj = low_E_filter(ψ_rand, F, int(12/a))\n",
    "ψ_proj = ψ_proj/np.linalg.norm(ψ_proj)\n",
    "\n",
    "plt.plot(np.log(np.abs(ψ_proj)))"
   ]
  },
  {
   "cell_type": "code",
   "execution_count": 5,
   "id": "53c3a92c-5add-4b1b-83bf-0815ba2af804",
   "metadata": {},
   "outputs": [],
   "source": [
    "d = int(a*2*N)\n",
    "n = int((d*1.5 - 1)/2)\n",
    "Kd = int(n*np.pi/a_r)\n",
    "indices = np.arange(np.pi/a_r, (n+1)*np.pi/a_r, np.pi/a_r).astype(int)\n",
    "ψ_basis = basis(ψ_proj, G, indices)\n",
    "\n",
    "norm = np.linalg.norm(ψ_basis, axis=1)\n",
    "ψ_basis = ψ_basis/norm[:, np.newaxis]"
   ]
  },
  {
   "cell_type": "code",
   "execution_count": 6,
   "id": "90aeb845-3949-4a1c-a9f8-6e6cacbd8e8f",
   "metadata": {},
   "outputs": [],
   "source": [
    "S = ψ_basis@ψ_basis.T\n",
    "H_proj = ψ_basis@H@ψ_basis.T\n",
    "\n",
    "eigv = eigvals(H_proj, S)"
   ]
  },
  {
   "cell_type": "code",
   "execution_count": 7,
   "id": "b540712d-c0d8-4a47-a85a-d57c4e98ea85",
   "metadata": {},
   "outputs": [
    {
     "data": {
      "text/plain": [
       "(-0.1, 0.1)"
      ]
     },
     "execution_count": 7,
     "metadata": {},
     "output_type": "execute_result"
    },
    {
     "data": {
      "image/png": "[encoded data removed]",
      "text/plain": [
       "<Figure size 432x288 with 1 Axes>"
      ]
     },
     "metadata": {
      "needs_background": "light"
     },
     "output_type": "display_data"
    }
   ],
   "source": [
    "plt.plot(np.sort(np.real(eigv)))\n",
    "plt.plot(np.sort(np.imag(eigv)))\n",
    "plt.ylim([-a, a])"
   ]
  }
 ],
 "metadata": {
  "kernelspec": {
   "display_name": "Python 3 (ipykernel)",
   "language": "python",
   "name": "python3"
  },
  "language_info": {
   "codemirror_mode": {
    "name": "ipython",
    "version": 3
   },
   "file_extension": ".py",
   "mimetype": "text/x-python",
   "name": "python",
   "nbconvert_exporter": "python",
   "pygments_lexer": "ipython3",
   "version": "3.9.6"
  }
 },
 "nbformat": 4,
 "nbformat_minor": 5
}
