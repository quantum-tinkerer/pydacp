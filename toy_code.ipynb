{
 "cells": [
  {
   "cell_type": "code",
   "execution_count": 1,
   "id": "b328f70f",
   "metadata": {},
   "outputs": [],
   "source": [
    "import numpy as np\n",
    "from scipy.linalg import eig, eig_banded, eigh\n",
    "from scipy.sparse.linalg import eigs, eigsh\n",
    "from scipy.sparse import eye, diags\n",
    "import kwant\n",
    "from math import floor\n",
    "from scipy.integrate import quad\n",
    "import matplotlib.pyplot as plt"
   ]
  },
  {
   "cell_type": "code",
   "execution_count": 2,
   "id": "684822e1",
   "metadata": {},
   "outputs": [
    {
     "name": "stdout",
     "output_type": "stream",
     "text": [
      "CPU times: user 29.2 ms, sys: 6.24 ms, total: 35.5 ms\n",
      "Wall time: 31.7 ms\n"
     ]
    },
    {
     "data": {
      "text/plain": [
       "18"
      ]
     },
     "execution_count": 2,
     "metadata": {},
     "output_type": "execute_result"
    }
   ],
   "source": [
    "%%time\n",
    "N = 200\n",
    "eps = 0.1\n",
    "a = 0.1\n",
    "b = np.linspace(-1, 1, N)\n",
    "H = diags(b, offsets=0)\n",
    "\n",
    "Emin = eigsh(H, k=1, which='SA', return_eigenvectors=False)[0]\n",
    "Emax = eigsh(H, k=1, which='LA', return_eigenvectors=False)[0]\n",
    "E_max_abs = np.max(np.abs([Emax, Emin]))\n",
    "\n",
    "\n",
    "def G_operator(ham, Emax, Emin):\n",
    "    Emax=Emax*(1 + eps)\n",
    "    Emin=Emin*(1 + eps)\n",
    "    E0 = (Emax - Emin)/2\n",
    "    Ec = (Emax + Emin)/2\n",
    "    return (ham - eye(ham.shape[0]) * Ec)/E0\n",
    "\n",
    "\n",
    "def F_operator(ham, Emax, a):\n",
    "    Emax=Emax*(1 + eps)\n",
    "    E0 = (Emax**2 - a**2)/2\n",
    "    Ec = (Emax**2 + a**2)/2\n",
    "    return (ham @ ham - eye(ham.shape[0])*Ec)/E0\n",
    "\n",
    "G = G_operator(H, Emax, Emin)\n",
    "F = F_operator(H, E_max_abs, a)\n",
    "a_r = a/E_max_abs\n",
    "\n",
    "\n",
    "dos_estimate = kwant.kpm.SpectralDensity(\n",
    "    H,\n",
    "    energy_resolution=2*a,\n",
    "    mean=True,\n",
    "    bounds=(Emin, Emax)\n",
    ")\n",
    "\n",
    "d=int(np.abs(dos_estimate(0)*2*a))\n",
    "d"
   ]
  },
  {
   "cell_type": "code",
   "execution_count": 3,
   "id": "9fcc20c9",
   "metadata": {},
   "outputs": [],
   "source": [
    "def low_E_filter(v_rand, matrix, k):\n",
    "    for i in range(k+1):\n",
    "        if i == 0:\n",
    "            v_n = v_rand\n",
    "            continue\n",
    "\n",
    "        elif i == 1:\n",
    "            v_nm1 = v_n\n",
    "            v_n = matrix @ v_nm1\n",
    "            continue\n",
    "        else:\n",
    "            v_np1 = 2*matrix @ v_n - v_nm1\n",
    "            v_nm1 = v_n\n",
    "            v_n = v_np1\n",
    "    return v_n/np.linalg.norm(v_n)\n",
    "\n",
    "\n",
    "def basis(v_proj, matrix, indices):\n",
    "    v_basis = []\n",
    "    # TODO: If k is too large, the norms of the vectors are from some large order.\n",
    "    k = indices[-1]\n",
    "    for i in range(k+1):\n",
    "        if i == 0:\n",
    "            v_n = v_proj\n",
    "            continue\n",
    "        elif i == 1:\n",
    "            v_nm1 = v_n\n",
    "            v_n = matrix @ v_nm1\n",
    "            continue\n",
    "        else:\n",
    "            v_np1 = 2 * matrix @ v_n - v_nm1\n",
    "            v_nm1 = v_n\n",
    "            v_n = v_np1\n",
    "        if i in indices:\n",
    "            v_basis.append(v_n / np.linalg.norm(v_n))\n",
    "    return np.asarray(v_basis)\n",
    "\n",
    "\n",
    "\n",
    "def basis_no_store(v_proj, matrix, H, indices_to_store):\n",
    "    S_xy = []\n",
    "    H_xy = []\n",
    "    # TODO: If k is too large, the norms of the vectors are from some large order.\n",
    "    k = indices_to_store[-1]\n",
    "    for i in range(k+1):\n",
    "        if i == 0:\n",
    "            v_n = v_proj\n",
    "            continue\n",
    "        elif i == 1:\n",
    "            v_nm1 = v_n\n",
    "            v_n = matrix @ v_nm1\n",
    "            continue\n",
    "        else:\n",
    "            v_np1 = 2 * matrix @ v_n - v_nm1\n",
    "            v_nm1 = v_n\n",
    "            v_n = v_np1\n",
    "        if i in indices_to_store:\n",
    "            v_store = v_n / np.linalg.norm(v_n)\n",
    "            S_xy.append(v_proj.conj() @ v_store.T)\n",
    "            H_xy.append(v_proj.conj() @ matrix @ v_store)\n",
    "    return np.asarray(S_xy), np.asarray(H_xy)\n"
   ]
  },
  {
   "cell_type": "code",
   "execution_count": 4,
   "id": "03be45bf",
   "metadata": {},
   "outputs": [
    {
     "name": "stdout",
     "output_type": "stream",
     "text": [
      "CPU times: user 60.4 ms, sys: 13.1 ms, total: 73.5 ms\n",
      "Wall time: 72.9 ms\n"
     ]
    },
    {
     "data": {
      "text/plain": [
       "<matplotlib.collections.PathCollection at 0x7fc96ab48e80>"
      ]
     },
     "execution_count": 4,
     "metadata": {},
     "output_type": "execute_result"
    },
    {
     "data": {
      "image/png": "[encoded data removed]",
      "text/plain": [
       "<Figure size 432x288 with 1 Axes>"
      ]
     },
     "metadata": {
      "needs_background": "light"
     },
     "output_type": "display_data"
    }
   ],
   "source": [
    "%%time\n",
    "true_eigvals, true_eigvecs = eigh(H.todense())\n",
    "\n",
    "\n",
    "ψ_rand = 2 * (np.random.rand(N) + np.random.rand(N)*1j - 0.5 * (1 + 1j))\n",
    "ψ_rand = ψ_rand/np.linalg.norm(ψ_rand)\n",
    "ψ_proj = low_E_filter(ψ_rand, F, int(12*E_max_abs/a))\n",
    "\n",
    "plt.scatter(np.real(true_eigvals), np.log(np.abs(true_eigvecs.T.conj()@ψ_proj)))"
   ]
  },
  {
   "cell_type": "code",
   "execution_count": 5,
   "id": "9aa5e18b",
   "metadata": {},
   "outputs": [
    {
     "ename": "IndexError",
     "evalue": "index 17 is out of bounds for axis 1 with size 17",
     "output_type": "error",
     "traceback": [
      "\u001b[0;31m---------------------------------------------------------------------------\u001b[0m",
      "\u001b[0;31mIndexError\u001b[0m                                Traceback (most recent call last)",
      "\u001b[0;32m/tmp/ipykernel_10136/1719154995.py\u001b[0m in \u001b[0;36m<module>\u001b[0;34m\u001b[0m\n\u001b[1;32m     28\u001b[0m         \u001b[0mind_p\u001b[0m \u001b[0;34m=\u001b[0m \u001b[0mnp\u001b[0m\u001b[0;34m.\u001b[0m\u001b[0mwhere\u001b[0m\u001b[0;34m(\u001b[0m\u001b[0mindices_to_store\u001b[0m \u001b[0;34m==\u001b[0m \u001b[0mkp\u001b[0m\u001b[0;34m)\u001b[0m\u001b[0;34m[\u001b[0m\u001b[0;36m0\u001b[0m\u001b[0;34m]\u001b[0m\u001b[0;34m[\u001b[0m\u001b[0;36m0\u001b[0m\u001b[0;34m]\u001b[0m\u001b[0;34m\u001b[0m\u001b[0;34m\u001b[0m\u001b[0m\n\u001b[1;32m     29\u001b[0m         \u001b[0mind_m\u001b[0m \u001b[0;34m=\u001b[0m \u001b[0mnp\u001b[0m\u001b[0;34m.\u001b[0m\u001b[0mwhere\u001b[0m\u001b[0;34m(\u001b[0m\u001b[0mindices_to_store\u001b[0m \u001b[0;34m==\u001b[0m \u001b[0mkm\u001b[0m\u001b[0;34m)\u001b[0m\u001b[0;34m[\u001b[0m\u001b[0;36m0\u001b[0m\u001b[0;34m]\u001b[0m\u001b[0;34m[\u001b[0m\u001b[0;36m0\u001b[0m\u001b[0;34m]\u001b[0m\u001b[0;34m\u001b[0m\u001b[0;34m\u001b[0m\u001b[0m\n\u001b[0;32m---> 30\u001b[0;31m         \u001b[0mS\u001b[0m\u001b[0;34m[\u001b[0m\u001b[0mcount_i\u001b[0m\u001b[0;34m,\u001b[0m \u001b[0mcount_j\u001b[0m\u001b[0;34m]\u001b[0m \u001b[0;34m=\u001b[0m \u001b[0;36m0.5\u001b[0m \u001b[0;34m*\u001b[0m \u001b[0;34m(\u001b[0m\u001b[0mS_xy\u001b[0m\u001b[0;34m[\u001b[0m\u001b[0mind_p\u001b[0m\u001b[0;34m]\u001b[0m \u001b[0;34m+\u001b[0m \u001b[0mS_xy\u001b[0m\u001b[0;34m[\u001b[0m\u001b[0mind_m\u001b[0m\u001b[0;34m]\u001b[0m\u001b[0;34m)\u001b[0m\u001b[0;34m\u001b[0m\u001b[0;34m\u001b[0m\u001b[0m\n\u001b[0m\u001b[1;32m     31\u001b[0m         \u001b[0mH\u001b[0m\u001b[0;34m[\u001b[0m\u001b[0mcount_i\u001b[0m\u001b[0;34m,\u001b[0m \u001b[0mcount_j\u001b[0m\u001b[0;34m]\u001b[0m \u001b[0;34m=\u001b[0m \u001b[0;36m0.5\u001b[0m \u001b[0;34m*\u001b[0m \u001b[0;34m(\u001b[0m\u001b[0mH_xy\u001b[0m\u001b[0;34m[\u001b[0m\u001b[0mind_p\u001b[0m\u001b[0;34m]\u001b[0m \u001b[0;34m+\u001b[0m \u001b[0mH_xy\u001b[0m\u001b[0;34m[\u001b[0m\u001b[0mind_m\u001b[0m\u001b[0;34m]\u001b[0m\u001b[0;34m)\u001b[0m\u001b[0;34m\u001b[0m\u001b[0;34m\u001b[0m\u001b[0m\n\u001b[1;32m     32\u001b[0m \u001b[0mlole\u001b[0m \u001b[0;34m=\u001b[0m \u001b[0mnp\u001b[0m\u001b[0;34m.\u001b[0m\u001b[0marray\u001b[0m\u001b[0;34m(\u001b[0m\u001b[0mlole\u001b[0m\u001b[0;34m)\u001b[0m\u001b[0;34m\u001b[0m\u001b[0;34m\u001b[0m\u001b[0m\n",
      "\u001b[0;31mIndexError\u001b[0m: index 17 is out of bounds for axis 1 with size 17"
     ]
    }
   ],
   "source": [
    "# Needed factor of 2 here\n",
    "n = int(np.abs((d*2 - 1)/2))\n",
    "a_r = a / np.max(np.abs([Emin, Emax]))\n",
    "dk = np.pi / a_r\n",
    "n_array = np.arange(1, 2*n+1, 1)\n",
    "indices = np.floor(n_array * dk)\n",
    "indices_to_store = np.unique(\n",
    "    np.array([0, 1, *indices-2, *indices-1, *indices, *indices+1])\n",
    ").astype(int)\n",
    "n_array_basis = np.arange(1, n+1, 1)\n",
    "indices_half = np.floor(n_array_basis * dk)\n",
    "indices_basis = np.unique(np.array([0, *indices_half-1, *indices_half])).astype(int)\n",
    "\n",
    "S_xy, H_xy = basis_no_store(\n",
    "    v_proj=ψ_proj,\n",
    "    matrix=G,\n",
    "    H=H,\n",
    "    indices_to_store=indices_to_store\n",
    ")\n",
    "\n",
    "S = np.zeros((n, n), dtype=np.complex128)\n",
    "H = np.zeros((n, n), dtype=np.complex128)\n",
    "lole = []\n",
    "for count_i, i in enumerate(indices_basis):\n",
    "    for count_j, j in enumerate(indices_basis):\n",
    "        kp = i+j\n",
    "        km = abs(i-j)\n",
    "        ind_p = np.where(indices_to_store == kp)[0][0]\n",
    "        ind_m = np.where(indices_to_store == km)[0][0]\n",
    "        S[count_i, count_j] = 0.5 * (S_xy[ind_p] + S_xy[ind_m])\n",
    "        H[count_i, count_j] = 0.5 * (H_xy[ind_p] + H_xy[ind_m])\n",
    "lole = np.array(lole)\n",
    "\n",
    "n = int((d*2 - 1)/2)\n",
    "n_array = np.arange(1, n+1, 1)\n",
    "indicesp1 = (n_array*np.pi/a_r).astype(int)\n",
    "indices = np.sort(np.array([*indicesp1, *indicesp1-1]))\n",
    "\n",
    "ψ_basis = basis(ψ_proj, G, indices)\n",
    "S_true = ψ_basis.conj()@ψ_basis.T"
   ]
  },
  {
   "cell_type": "code",
   "execution_count": 15,
   "id": "60b4b40e-25b3-48e1-a491-8735462f744b",
   "metadata": {},
   "outputs": [
    {
     "data": {
      "text/plain": [
       "35"
      ]
     },
     "execution_count": 15,
     "metadata": {},
     "output_type": "execute_result"
    }
   ],
   "source": [
    "ind_m"
   ]
  },
  {
   "cell_type": "code",
   "execution_count": null,
   "id": "689b7d7a-dec1-402f-acb3-559d259968a2",
   "metadata": {},
   "outputs": [],
   "source": []
  },
  {
   "cell_type": "code",
   "execution_count": 10,
   "id": "02fc1c7e-bf7e-4351-a316-6f95fda36075",
   "metadata": {},
   "outputs": [
    {
     "data": {
      "text/plain": [
       "31.415926535897913"
      ]
     },
     "execution_count": 10,
     "metadata": {},
     "output_type": "execute_result"
    }
   ],
   "source": [
    "dk"
   ]
  },
  {
   "cell_type": "code",
   "execution_count": 11,
   "id": "e5655714-dec7-490d-9fce-21edd158e9a3",
   "metadata": {},
   "outputs": [
    {
     "data": {
      "text/plain": [
       "281"
      ]
     },
     "execution_count": 11,
     "metadata": {},
     "output_type": "execute_result"
    }
   ],
   "source": [
    "km"
   ]
  },
  {
   "cell_type": "code",
   "execution_count": 12,
   "id": "051046b1-2e9c-4219-9e8b-462b1cecea26",
   "metadata": {},
   "outputs": [
    {
     "data": {
      "text/plain": [
       "281"
      ]
     },
     "execution_count": 12,
     "metadata": {},
     "output_type": "execute_result"
    }
   ],
   "source": [
    "kp"
   ]
  },
  {
   "cell_type": "code",
   "execution_count": 17,
   "id": "af49bd60-1abe-4934-aa4a-698ffeeceee6",
   "metadata": {},
   "outputs": [
    {
     "data": {
      "text/plain": [
       "array([   0,    1,   29,   30,   31,   32,   60,   61,   62,   63,   92,\n",
       "         93,   94,   95,  123,  124,  125,  126,  155,  156,  157,  158,\n",
       "        186,  187,  188,  189,  217,  218,  219,  220,  249,  250,  251,\n",
       "        252,  280,  281,  282,  283,  312,  313,  314,  315,  343,  344,\n",
       "        345,  346,  374,  375,  376,  377,  406,  407,  408,  409,  437,\n",
       "        438,  439,  440,  469,  470,  471,  472,  500,  501,  502,  503,\n",
       "        532,  533,  534,  535,  563,  564,  565,  566,  594,  595,  596,\n",
       "        597,  626,  627,  628,  629,  657,  658,  659,  660,  689,  690,\n",
       "        691,  692,  720,  721,  722,  723,  751,  752,  753,  754,  783,\n",
       "        784,  785,  786,  814,  815,  816,  817,  846,  847,  848,  849,\n",
       "        877,  878,  879,  880,  909,  910,  911,  912,  940,  941,  942,\n",
       "        943,  971,  972,  973,  974, 1003, 1004, 1005, 1006, 1034, 1035,\n",
       "       1036, 1037, 1066, 1067, 1068, 1069])"
      ]
     },
     "execution_count": 17,
     "metadata": {},
     "output_type": "execute_result"
    }
   ],
   "source": [
    "indices_to_store"
   ]
  },
  {
   "cell_type": "code",
   "execution_count": 9,
   "id": "ade4f5e2-5a2b-4f75-a6e9-73b69903329b",
   "metadata": {},
   "outputs": [
    {
     "data": {
      "text/plain": [
       "91"
      ]
     },
     "execution_count": 9,
     "metadata": {},
     "output_type": "execute_result"
    }
   ],
   "source": [
    "kp"
   ]
  },
  {
   "cell_type": "code",
   "execution_count": 10,
   "id": "761f64e7-391b-4c1a-89e5-926094019011",
   "metadata": {},
   "outputs": [
    {
     "data": {
      "text/plain": [
       "31"
      ]
     },
     "execution_count": 10,
     "metadata": {},
     "output_type": "execute_result"
    }
   ],
   "source": [
    "km"
   ]
  },
  {
   "cell_type": "code",
   "execution_count": 8,
   "id": "2fe12d39-e873-4733-ae7b-af1faceea8a4",
   "metadata": {},
   "outputs": [
    {
     "data": {
      "text/plain": [
       "array([   0,    1,   29,   30,   31,   32,   60,   61,   62,   63,   92,\n",
       "         93,   94,   95,  123,  124,  125,  126,  155,  156,  157,  158,\n",
       "        186,  187,  188,  189,  217,  218,  219,  220,  249,  250,  251,\n",
       "        252,  280,  281,  282,  283,  312,  313,  314,  315,  343,  344,\n",
       "        345,  346,  374,  375,  376,  377,  406,  407,  408,  409,  437,\n",
       "        438,  439,  440,  469,  470,  471,  472,  500,  501,  502,  503,\n",
       "        532,  533,  534,  535,  563,  564,  565,  566,  594,  595,  596,\n",
       "        597,  626,  627,  628,  629,  657,  658,  659,  660,  689,  690,\n",
       "        691,  692,  720,  721,  722,  723,  751,  752,  753,  754,  783,\n",
       "        784,  785,  786,  814,  815,  816,  817,  846,  847,  848,  849,\n",
       "        877,  878,  879,  880,  909,  910,  911,  912,  940,  941,  942,\n",
       "        943,  971,  972,  973,  974, 1003, 1004, 1005, 1006, 1034, 1035,\n",
       "       1036, 1037, 1066, 1067, 1068, 1069])"
      ]
     },
     "execution_count": 8,
     "metadata": {},
     "output_type": "execute_result"
    }
   ],
   "source": [
    "indices_to_store"
   ]
  },
  {
   "cell_type": "code",
   "execution_count": 17,
   "id": "28832c53-dc79-4f62-aba8-702ff2b338ac",
   "metadata": {},
   "outputs": [
    {
     "data": {
      "text/plain": [
       "array([  0,   1,   3,   4,   5,   6,   7,   8,   9,  10,  11,  12,  13,\n",
       "        14,  15,  16,  17,  18,  19,  20,  21,  22,  23,  24,  25,  26,\n",
       "        27,  28,  29,  30,  31,  32,  33,  34,  35,  36,  37,  38,  39,\n",
       "        40,  41,  42,  43,  44,  45,  46,  47,  48,  49,  50,  51,  52,\n",
       "        53,  54,  55,  56,  57,  58,  59,  60,  61,  62,  63,  64,  66,\n",
       "        67,  68,  70,  71,  72,  74,  75,  76,  78,  79,  80,  82,  83,\n",
       "        84,  86,  87,  88,  90,  91,  92,  94,  95,  96,  98,  99, 100,\n",
       "       102, 103, 104, 106, 107, 108, 110, 111, 112, 114, 115, 116, 118,\n",
       "       119, 120, 122, 123, 124, 126, 127, 128, 130, 131, 134])"
      ]
     },
     "execution_count": 17,
     "metadata": {},
     "output_type": "execute_result"
    }
   ],
   "source": [
    "np.sort(np.unique(lole))"
   ]
  },
  {
   "cell_type": "code",
   "execution_count": 18,
   "id": "d77188c7-04c8-481f-af63-b7b75aecf74f",
   "metadata": {},
   "outputs": [
    {
     "data": {
      "text/plain": [
       "array([   0,    1,   29,   30,   31,   32,   60,   61,   62,   63,   92,\n",
       "         93,   94,   95,  123,  124,  125,  126,  155,  156,  157,  158,\n",
       "        186,  187,  188,  189,  217,  218,  219,  220,  249,  250,  251,\n",
       "        252,  280,  281,  282,  283,  312,  313,  314,  315,  343,  344,\n",
       "        345,  346,  374,  375,  376,  377,  406,  407,  408,  409,  437,\n",
       "        438,  439,  440,  469,  470,  471,  472,  500,  501,  502,  503,\n",
       "        532,  533,  534,  535,  563,  564,  565,  566,  594,  595,  596,\n",
       "        597,  626,  627,  628,  629,  657,  658,  659,  660,  689,  690,\n",
       "        691,  692,  720,  721,  722,  723,  751,  752,  753,  754,  783,\n",
       "        784,  785,  786,  814,  815,  816,  817,  846,  847,  848,  849,\n",
       "        877,  878,  879,  880,  909,  910,  911,  912,  940,  941,  942,\n",
       "        943,  971,  972,  973,  974, 1003, 1004, 1005, 1006, 1034, 1035,\n",
       "       1036, 1037, 1066, 1067, 1068, 1069])"
      ]
     },
     "execution_count": 18,
     "metadata": {},
     "output_type": "execute_result"
    }
   ],
   "source": [
    "indices_to_store"
   ]
  },
  {
   "cell_type": "code",
   "execution_count": 6,
   "id": "158fdc92-b843-421d-afad-9197d772033b",
   "metadata": {},
   "outputs": [
    {
     "data": {
      "text/plain": [
       "array([[-0.21466008+0.00000000e+00j,  0.99412865-2.77555756e-17j,\n",
       "         0.92883543-1.38777878e-17j, ..., -0.09934842+5.55111512e-17j,\n",
       "        -0.03766545+2.49800181e-16j, -0.03987069+2.77555756e-17j],\n",
       "       [ 0.99412865-2.77555756e-17j, -0.5669483 +6.93889390e-18j,\n",
       "        -0.40371458-8.32667268e-17j, ...,  0.07351546+2.77555756e-17j,\n",
       "         0.03041662-2.77555756e-17j, -0.04524735+5.55111512e-17j],\n",
       "       [ 0.92883543-1.38777878e-17j, -0.40371458-8.32667268e-17j,\n",
       "         0.22824461+0.00000000e+00j, ...,  0.04257022+2.08166817e-16j,\n",
       "         0.07160562+2.22044605e-16j,  0.11464279-5.55111512e-17j],\n",
       "       ...,\n",
       "       [-0.09934842+5.55111512e-17j,  0.07351546+2.77555756e-17j,\n",
       "         0.04257022+2.08166817e-16j, ...,  0.0048094 +1.24900090e-16j,\n",
       "        -0.51787004-2.08166817e-16j,  0.44758771+1.31838984e-16j],\n",
       "       [-0.03766545+2.49800181e-16j,  0.03041662-2.77555756e-17j,\n",
       "         0.07160562+2.22044605e-16j, ..., -0.51787004-2.08166817e-16j,\n",
       "        -0.09122248-3.05311332e-16j,  0.61486269+4.16333634e-17j],\n",
       "       [-0.03987069+2.77555756e-17j, -0.04524735+5.55111512e-17j,\n",
       "         0.11464279-5.55111512e-17j, ...,  0.44758771+1.31838984e-16j,\n",
       "         0.61486269+4.16333634e-17j, -0.12985707-1.11022302e-16j]])"
      ]
     },
     "execution_count": 6,
     "metadata": {},
     "output_type": "execute_result"
    }
   ],
   "source": [
    "S"
   ]
  },
  {
   "cell_type": "code",
   "execution_count": 7,
   "id": "ff73d3f6-619e-4358-9106-4c14606d1a7a",
   "metadata": {},
   "outputs": [
    {
     "data": {
      "text/plain": [
       "<matplotlib.image.AxesImage at 0x7f429546cc40>"
      ]
     },
     "execution_count": 7,
     "metadata": {},
     "output_type": "execute_result"
    },
    {
     "data": {
      "image/png": "[encoded data removed]",
      "text/plain": [
       "<Figure size 288x288 with 1 Axes>"
      ]
     },
     "metadata": {
      "needs_background": "light"
     },
     "output_type": "display_data"
    }
   ],
   "source": [
    "plt.matshow(np.abs(S))"
   ]
  },
  {
   "cell_type": "code",
   "execution_count": 8,
   "id": "bcf373fb-7086-476e-bbf6-f1c1f4e99e4c",
   "metadata": {},
   "outputs": [
    {
     "data": {
      "text/plain": [
       "<matplotlib.image.AxesImage at 0x7f42953d9f40>"
      ]
     },
     "execution_count": 8,
     "metadata": {},
     "output_type": "execute_result"
    },
    {
     "data": {
      "image/png": "[encoded data removed]",
      "text/plain": [
       "<Figure size 288x288 with 1 Axes>"
      ]
     },
     "metadata": {
      "needs_background": "light"
     },
     "output_type": "display_data"
    }
   ],
   "source": [
    "plt.matshow(np.abs(S_true))"
   ]
  },
  {
   "cell_type": "code",
   "execution_count": 14,
   "id": "c77e3211-21d9-47aa-ad8e-39cd8008ca45",
   "metadata": {},
   "outputs": [
    {
     "data": {
      "text/plain": [
       "(34, 34)"
      ]
     },
     "execution_count": 14,
     "metadata": {},
     "output_type": "execute_result"
    }
   ],
   "source": [
    "S_true.shape"
   ]
  },
  {
   "cell_type": "code",
   "execution_count": 15,
   "id": "d371c3ec-b3b3-4f66-b0f2-afbb74ee9b11",
   "metadata": {},
   "outputs": [
    {
     "data": {
      "text/plain": [
       "(34, 34)"
      ]
     },
     "execution_count": 15,
     "metadata": {},
     "output_type": "execute_result"
    }
   ],
   "source": [
    "S.shape"
   ]
  },
  {
   "cell_type": "code",
   "execution_count": 11,
   "id": "30e83b13",
   "metadata": {},
   "outputs": [
    {
     "data": {
      "text/plain": [
       "(34, 200)"
      ]
     },
     "execution_count": 11,
     "metadata": {},
     "output_type": "execute_result"
    }
   ],
   "source": [
    "np.shape(ψ_basis)"
   ]
  },
  {
   "cell_type": "code",
   "execution_count": 12,
   "id": "05d25695",
   "metadata": {},
   "outputs": [
    {
     "data": {
      "text/plain": [
       "(34,)"
      ]
     },
     "execution_count": 12,
     "metadata": {},
     "output_type": "execute_result"
    }
   ],
   "source": [
    "np.shape(indices)"
   ]
  },
  {
   "cell_type": "code",
   "execution_count": 13,
   "id": "026b09f1",
   "metadata": {},
   "outputs": [
    {
     "ename": "ValueError",
     "evalue": "matmul: Input operand 1 has a mismatch in its core dimension 0, with gufunc signature (n?,k),(k,m?)->(n?,m?) (size 34 is different from 200)",
     "output_type": "error",
     "traceback": [
      "\u001b[0;31m---------------------------------------------------------------------------\u001b[0m",
      "\u001b[0;31mValueError\u001b[0m                                Traceback (most recent call last)",
      "\u001b[0;32m<timed exec>\u001b[0m in \u001b[0;36m<module>\u001b[0;34m\u001b[0m\n",
      "\u001b[0;31mValueError\u001b[0m: matmul: Input operand 1 has a mismatch in its core dimension 0, with gufunc signature (n?,k),(k,m?)->(n?,m?) (size 34 is different from 200)"
     ]
    }
   ],
   "source": [
    "%%time\n",
    "S = ψ_basis.conj()@ψ_basis.T\n",
    "H_proj = ψ_basis.conj()@H@ψ_basis.T"
   ]
  },
  {
   "cell_type": "code",
   "execution_count": 45,
   "id": "1fc318fe",
   "metadata": {},
   "outputs": [
    {
     "name": "stdout",
     "output_type": "stream",
     "text": [
      "CPU times: user 307 ms, sys: 5.99 ms, total: 313 ms\n",
      "Wall time: 307 ms\n"
     ]
    }
   ],
   "source": [
    "%%time\n",
    "s, V = eig(S)\n",
    "indx = np.abs(s)>1e-12\n",
    "lambda_s = np.diag(1/np.sqrt(s[indx]))\n",
    "U = V[:, indx]@lambda_s\n",
    "\n",
    "H_proj_red = U.T.conj()@H_proj@U"
   ]
  },
  {
   "cell_type": "code",
   "execution_count": 44,
   "id": "ac6ad032",
   "metadata": {},
   "outputs": [
    {
     "data": {
      "text/plain": [
       "(3, 3)"
      ]
     },
     "execution_count": 44,
     "metadata": {},
     "output_type": "execute_result"
    }
   ],
   "source": [
    "np.shape(H_proj_red)"
   ]
  },
  {
   "cell_type": "code",
   "execution_count": 40,
   "id": "d5ed8fd7",
   "metadata": {},
   "outputs": [
    {
     "name": "stdout",
     "output_type": "stream",
     "text": [
      "CPU times: user 486 µs, sys: 0 ns, total: 486 µs\n",
      "Wall time: 406 µs\n"
     ]
    }
   ],
   "source": [
    "%%time\n",
    "# could use eigh, H_proj_red is approximately hermitian\n",
    "eigvalues, eigvectors = eigh(H_proj_red)"
   ]
  },
  {
   "cell_type": "code",
   "execution_count": 41,
   "id": "392a9231",
   "metadata": {},
   "outputs": [
    {
     "data": {
      "text/plain": [
       "[<matplotlib.lines.Line2D at 0x7f11f55affa0>]"
      ]
     },
     "execution_count": 41,
     "metadata": {},
     "output_type": "execute_result"
    },
    {
     "data": {
      "image/png": "[encoded data removed]",
      "text/plain": [
       "<Figure size 432x288 with 1 Axes>"
      ]
     },
     "metadata": {
      "needs_background": "light"
     },
     "output_type": "display_data"
    }
   ],
   "source": [
    "plt.plot(np.log10(np.diff(np.sort(np.real(eigvalues)))))"
   ]
  },
  {
   "cell_type": "code",
   "execution_count": 42,
   "id": "d07633d9",
   "metadata": {},
   "outputs": [
    {
     "data": {
      "text/plain": [
       "(0.0, 0.2)"
      ]
     },
     "execution_count": 42,
     "metadata": {},
     "output_type": "execute_result"
    },
    {
     "data": {
      "image/png": "[encoded data removed]",
      "text/plain": [
       "<Figure size 432x288 with 1 Axes>"
      ]
     },
     "metadata": {
      "needs_background": "light"
     },
     "output_type": "display_data"
    }
   ],
   "source": [
    "plt.plot(np.sort(np.real(eigvalues)))\n",
    "plt.ylim([0, 0.2])"
   ]
  },
  {
   "cell_type": "code",
   "execution_count": 34,
   "id": "feb32c53",
   "metadata": {
    "tags": []
   },
   "outputs": [
    {
     "data": {
      "text/plain": [
       "[<matplotlib.lines.Line2D at 0x7f11f568aaf0>]"
      ]
     },
     "execution_count": 34,
     "metadata": {},
     "output_type": "execute_result"
    },
    {
     "data": {
      "image/png": "[encoded data removed]",
      "text/plain": [
       "<Figure size 432x288 with 1 Axes>"
      ]
     },
     "metadata": {
      "needs_background": "light"
     },
     "output_type": "display_data"
    }
   ],
   "source": [
    "out_indx = a >= np.abs(eigvalues)\n",
    "plt.plot(np.sort(np.real(eigvalues[out_indx])))"
   ]
  }
 ],
 "metadata": {
  "kernelspec": {
   "display_name": "Python 3 (ipykernel)",
   "language": "python",
   "name": "python3"
  },
  "language_info": {
   "codemirror_mode": {
    "name": "ipython",
    "version": 3
   },
   "file_extension": ".py",
   "mimetype": "text/x-python",
   "name": "python",
   "nbconvert_exporter": "python",
   "pygments_lexer": "ipython3",
   "version": "3.9.7"
  },
  "widgets": {
   "application/vnd.jupyter.widget-state+json": {
    "state": {},
    "version_major": 2,
    "version_minor": 0
   }
  }
 },
 "nbformat": 4,
 "nbformat_minor": 5
}
