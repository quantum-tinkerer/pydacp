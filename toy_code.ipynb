{
 "cells": [
  {
   "cell_type": "code",
   "execution_count": 1,
   "id": "b328f70f",
   "metadata": {},
   "outputs": [],
   "source": [
    "import numpy as np\n",
    "from scipy.linalg import eig, eig_banded, eigh\n",
    "from scipy.sparse.linalg import eigs, eigsh\n",
    "from scipy.sparse import eye, diags\n",
    "import kwant\n",
    "from scipy.integrate import quad\n",
    "\n",
    "\n",
    "import matplotlib.pyplot as plt"
   ]
  },
  {
   "cell_type": "code",
   "execution_count": 2,
   "id": "684822e1",
   "metadata": {},
   "outputs": [
    {
     "name": "stdout",
     "output_type": "stream",
     "text": [
      "CPU times: user 19.8 ms, sys: 2.11 ms, total: 21.9 ms\n",
      "Wall time: 19.6 ms\n"
     ]
    },
    {
     "data": {
      "text/plain": [
       "126"
      ]
     },
     "execution_count": 2,
     "metadata": {},
     "output_type": "execute_result"
    }
   ],
   "source": [
    "%%time\n",
    "# N = 5000\n",
    "# eps = 0.1\n",
    "# a = 0.1\n",
    "\n",
    "# c = np.random.rand(N-1) + np.random.rand(N-1)*1j\n",
    "# b = np.random.rand(N)\n",
    "# H = diags(c, offsets=-1) + diags(b, offsets=0) + diags(c.conj(), offsets=1)\n",
    "# Emin = eigsh(H, k=1, which='SA', return_eigenvectors=False)[0]\n",
    "# Emax = eigsh(H, k=1, which='LA', return_eigenvectors=False)[0]\n",
    "# E_max_abs = np.max(np.abs([Emax, Emin]))\n",
    "\n",
    "\n",
    "N = 500\n",
    "eps = 0.1\n",
    "a = 0.4\n",
    "\n",
    "b = np.concatenate((np.ones(int(N/4))*-1, np.ones(int(N/2))*0.1, np.ones(int(N/4))*1))\n",
    "H = diags(b, offsets=0)\n",
    "Emin = eigsh(H, k=1, which='SA', return_eigenvectors=False)[0]\n",
    "Emax = eigsh(H, k=1, which='LA', return_eigenvectors=False)[0]\n",
    "E_max_abs = np.max(np.abs([Emax, Emin]))\n",
    "\n",
    "\n",
    "def G_operator(ham, Emax, Emin):\n",
    "    Emax=Emax*(1 + eps)\n",
    "    Emin=Emin*(1 + eps)\n",
    "    E0 = (Emax - Emin)/2\n",
    "    Ec = (Emax + Emin)/2\n",
    "    return (ham - eye(ham.shape[0]) * Ec)/E0\n",
    "\n",
    "\n",
    "def F_operator(ham, Emax, a):\n",
    "    Emax=Emax*(1 + eps)\n",
    "    E0 = (Emax**2 - a**2)/2\n",
    "    Ec = (Emax**2 + a**2)/2\n",
    "    return (ham @ ham - eye(ham.shape[0])*Ec)/E0\n",
    "\n",
    "G = G_operator(H, Emax, Emin)\n",
    "F = F_operator(H, E_max_abs, a)\n",
    "a_r = a/E_max_abs\n",
    "\n",
    "\n",
    "dos_estimate = kwant.kpm.SpectralDensity(\n",
    "    H,\n",
    "    energy_resolution=2*a,\n",
    "    mean=True,\n",
    "    bounds=(Emin, Emax)\n",
    ")\n",
    "\n",
    "d=int(np.abs(dos_estimate(0)*2*a))\n",
    "d\n"
   ]
  },
  {
   "cell_type": "code",
   "execution_count": 3,
   "id": "9fcc20c9",
   "metadata": {},
   "outputs": [],
   "source": [
    "def low_E_filter(v_rand, matrix, k):\n",
    "    for i in range(k+1):\n",
    "        if i == 0:\n",
    "            v_n = v_rand\n",
    "            continue\n",
    "\n",
    "        elif i == 1:\n",
    "            v_nm1 = v_n\n",
    "            v_n = matrix @ v_nm1\n",
    "            continue\n",
    "        else:\n",
    "            v_np1 = 2*matrix @ v_n - v_nm1\n",
    "            v_nm1 = v_n\n",
    "            v_n = v_np1\n",
    "    return v_n/np.linalg.norm(v_n)\n",
    "\n",
    "def basis(v_proj, matrix, indices):\n",
    "    v_basis = []\n",
    "    # TODO: If k is too large, the norms of the vectors are from some large order.\n",
    "    k = indices[-1]\n",
    "    for i in range(k+1):\n",
    "        if i == 0:\n",
    "            v_n = v_proj\n",
    "            continue\n",
    "        elif i == 1:\n",
    "            v_nm1 = v_n\n",
    "            v_n = matrix @ v_nm1\n",
    "            continue\n",
    "        else:\n",
    "            v_np1 = 2 * matrix @ v_n - v_nm1\n",
    "            v_nm1 = v_n\n",
    "            v_n = v_np1\n",
    "        if i in indices:\n",
    "            v_basis.append(v_n / np.linalg.norm(v_n))\n",
    "    return np.asarray(v_basis)"
   ]
  },
  {
   "cell_type": "code",
   "execution_count": 4,
   "id": "03be45bf",
   "metadata": {},
   "outputs": [
    {
     "name": "stdout",
     "output_type": "stream",
     "text": [
      "CPU times: user 84.1 ms, sys: 19.3 ms, total: 103 ms\n",
      "Wall time: 103 ms\n"
     ]
    },
    {
     "data": {
      "text/plain": [
       "<matplotlib.collections.PathCollection at 0x7f11f612bd00>"
      ]
     },
     "execution_count": 4,
     "metadata": {},
     "output_type": "execute_result"
    },
    {
     "data": {
      "image/png": "[encoded data removed]",
      "text/plain": [
       "<Figure size 432x288 with 1 Axes>"
      ]
     },
     "metadata": {
      "needs_background": "light"
     },
     "output_type": "display_data"
    }
   ],
   "source": [
    "%%time\n",
    "true_eigvals, true_eigvecs = eigh(H.todense())\n",
    "\n",
    "\n",
    "ψ_rand = 2 * (np.random.rand(N) + np.random.rand(N)*1j - 0.5 * (1 + 1j))\n",
    "ψ_rand = ψ_rand/np.linalg.norm(ψ_rand)\n",
    "ψ_proj = low_E_filter(ψ_rand, F, int(12*E_max_abs/a))\n",
    "\n",
    "plt.scatter(np.real(true_eigvals), np.log(np.abs(true_eigvecs.T.conj()@ψ_proj)))\n",
    "#plt.xlim([-a-a/2, a+a/2])"
   ]
  },
  {
   "cell_type": "code",
   "execution_count": 7,
   "id": "9aa5e18b",
   "metadata": {},
   "outputs": [
    {
     "name": "stdout",
     "output_type": "stream",
     "text": [
      "CPU times: user 1.55 s, sys: 5.39 ms, total: 1.56 s\n",
      "Wall time: 1.55 s\n"
     ]
    }
   ],
   "source": [
    "%%time\n",
    "n = int((d*3 - 1)/2)\n",
    "n_array = np.arange(1, n+1, 1)\n",
    "indicesp1 = (n_array*np.pi/a_r).astype(int)\n",
    "indices = np.sort(np.array([*indicesp1, *indicesp1-1]))\n",
    "\n",
    "ψ_basis = basis(ψ_proj, G, indices)\n",
    "\n",
    "def gram_schmidt(A):\n",
    "    \"\"\"Orthogonalize a set of vectors stored as the columns of matrix A.\"\"\"\n",
    "    # Get the number of vectors.\n",
    "    n = A.shape[1]\n",
    "    for j in range(n):\n",
    "        # To orthogonalize the vector in column j with respect to the\n",
    "        # previous vectors, subtract from it its projection onto\n",
    "        # each of the previous vectors.\n",
    "        for k in range(j):\n",
    "            A[:, j] -= np.dot(A[:, k], A[:, j]) * A[:, k]\n",
    "        A[:, j] = A[:, j] / np.linalg.norm(A[:, j])\n",
    "    return A\n",
    "\n",
    "\n",
    "ψ_basis = gram_schmidt(ψ_basis)"
   ]
  },
  {
   "cell_type": "code",
   "execution_count": 8,
   "id": "30e83b13",
   "metadata": {},
   "outputs": [
    {
     "data": {
      "text/plain": [
       "(376, 500)"
      ]
     },
     "execution_count": 8,
     "metadata": {},
     "output_type": "execute_result"
    }
   ],
   "source": [
    "np.shape(ψ_basis)"
   ]
  },
  {
   "cell_type": "code",
   "execution_count": 9,
   "id": "05d25695",
   "metadata": {},
   "outputs": [
    {
     "data": {
      "text/plain": [
       "(376,)"
      ]
     },
     "execution_count": 9,
     "metadata": {},
     "output_type": "execute_result"
    }
   ],
   "source": [
    "np.shape(indices)"
   ]
  },
  {
   "cell_type": "code",
   "execution_count": 12,
   "id": "026b09f1",
   "metadata": {},
   "outputs": [
    {
     "name": "stdout",
     "output_type": "stream",
     "text": [
      "CPU times: user 60.2 ms, sys: 11.2 ms, total: 71.4 ms\n",
      "Wall time: 67.8 ms\n"
     ]
    }
   ],
   "source": [
    "%%time\n",
    "S = ψ_basis.conj()@ψ_basis.T\n",
    "H_proj = ψ_basis.conj()@H@ψ_basis.T"
   ]
  },
  {
   "cell_type": "code",
   "execution_count": 45,
   "id": "1fc318fe",
   "metadata": {},
   "outputs": [
    {
     "name": "stdout",
     "output_type": "stream",
     "text": [
      "CPU times: user 307 ms, sys: 5.99 ms, total: 313 ms\n",
      "Wall time: 307 ms\n"
     ]
    }
   ],
   "source": [
    "%%time\n",
    "s, V = eig(S)\n",
    "indx = np.abs(s)>1e-12\n",
    "lambda_s = np.diag(1/np.sqrt(s[indx]))\n",
    "U = V[:, indx]@lambda_s\n",
    "\n",
    "H_proj_red = U.T.conj()@H_proj@U"
   ]
  },
  {
   "cell_type": "code",
   "execution_count": 44,
   "id": "ac6ad032",
   "metadata": {},
   "outputs": [
    {
     "data": {
      "text/plain": [
       "(3, 3)"
      ]
     },
     "execution_count": 44,
     "metadata": {},
     "output_type": "execute_result"
    }
   ],
   "source": [
    "np.shape(H_proj_red)"
   ]
  },
  {
   "cell_type": "code",
   "execution_count": 40,
   "id": "d5ed8fd7",
   "metadata": {},
   "outputs": [
    {
     "name": "stdout",
     "output_type": "stream",
     "text": [
      "CPU times: user 486 µs, sys: 0 ns, total: 486 µs\n",
      "Wall time: 406 µs\n"
     ]
    }
   ],
   "source": [
    "%%time\n",
    "# could use eigh, H_proj_red is approximately hermitian\n",
    "eigvalues, eigvectors = eigh(H_proj_red)"
   ]
  },
  {
   "cell_type": "code",
   "execution_count": 41,
   "id": "392a9231",
   "metadata": {},
   "outputs": [
    {
     "data": {
      "text/plain": [
       "[<matplotlib.lines.Line2D at 0x7f11f55affa0>]"
      ]
     },
     "execution_count": 41,
     "metadata": {},
     "output_type": "execute_result"
    },
    {
     "data": {
      "image/png": "[encoded data removed]",
      "text/plain": [
       "<Figure size 432x288 with 1 Axes>"
      ]
     },
     "metadata": {
      "needs_background": "light"
     },
     "output_type": "display_data"
    }
   ],
   "source": [
    "plt.plot(np.log10(np.diff(np.sort(np.real(eigvalues)))))"
   ]
  },
  {
   "cell_type": "code",
   "execution_count": 42,
   "id": "d07633d9",
   "metadata": {},
   "outputs": [
    {
     "data": {
      "text/plain": [
       "(0.0, 0.2)"
      ]
     },
     "execution_count": 42,
     "metadata": {},
     "output_type": "execute_result"
    },
    {
     "data": {
      "image/png": "[encoded data removed]",
      "text/plain": [
       "<Figure size 432x288 with 1 Axes>"
      ]
     },
     "metadata": {
      "needs_background": "light"
     },
     "output_type": "display_data"
    }
   ],
   "source": [
    "plt.plot(np.sort(np.real(eigvalues)))\n",
    "plt.ylim([0, 0.2])"
   ]
  },
  {
   "cell_type": "code",
   "execution_count": 34,
   "id": "feb32c53",
   "metadata": {
    "tags": []
   },
   "outputs": [
    {
     "data": {
      "text/plain": [
       "[<matplotlib.lines.Line2D at 0x7f11f568aaf0>]"
      ]
     },
     "execution_count": 34,
     "metadata": {},
     "output_type": "execute_result"
    },
    {
     "data": {
      "image/png": "[encoded data removed]",
      "text/plain": [
       "<Figure size 432x288 with 1 Axes>"
      ]
     },
     "metadata": {
      "needs_background": "light"
     },
     "output_type": "display_data"
    }
   ],
   "source": [
    "out_indx = a >= np.abs(eigvalues)\n",
    "plt.plot(np.sort(np.real(eigvalues[out_indx])))"
   ]
  }
 ],
 "metadata": {
  "kernelspec": {
   "display_name": "Python 3 (ipykernel)",
   "language": "python",
   "name": "python3"
  },
  "language_info": {
   "codemirror_mode": {
    "name": "ipython",
    "version": 3
   },
   "file_extension": ".py",
   "mimetype": "text/x-python",
   "name": "python",
   "nbconvert_exporter": "python",
   "pygments_lexer": "ipython3",
   "version": "3.9.6"
  },
  "widgets": {
   "application/vnd.jupyter.widget-state+json": {
    "state": {},
    "version_major": 2,
    "version_minor": 0
   }
  }
 },
 "nbformat": 4,
 "nbformat_minor": 5
}
