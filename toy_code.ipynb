{
 "cells": [
  {
   "cell_type": "code",
   "execution_count": 1,
   "id": "fa31c3b9-1d02-4fc8-92c8-31091e38700f",
   "metadata": {},
   "outputs": [],
   "source": [
    "import numpy as np\n",
    "from scipy.linalg import eigvals, eig\n",
    "from scipy.sparse import csr_matrix\n",
    "import matplotlib.pyplot as plt\n",
    "from numba import njit\n",
    "\n",
    "from scipy.sparse import eye, diags"
   ]
  },
  {
   "cell_type": "code",
   "execution_count": 2,
   "id": "e6d4bc76-210a-4acb-a507-8273cfde43b0",
   "metadata": {},
   "outputs": [
    {
     "name": "stdout",
     "output_type": "stream",
     "text": [
      "CPU times: user 7.04 ms, sys: 4.93 ms, total: 12 ms\n",
      "Wall time: 10.2 ms\n"
     ]
    }
   ],
   "source": [
    "%%time\n",
    "N = 10000\n",
    "H = diags(np.linspace(-1, 1, N))\n",
    "a = 0.1\n",
    "\n",
    "def G_operator(ham, Emax, Emin):\n",
    "    Emax=Emax+0.05\n",
    "    Emin=Emin-0.05\n",
    "    E0 = (Emax - Emin)/2\n",
    "    Ec = (Emax + Emin)/2\n",
    "    return (ham - eye(ham.shape[0]) * Ec)/E0\n",
    "\n",
    "\n",
    "def F_operator(ham, Emax, a):\n",
    "    Emax=Emax+0.05\n",
    "    E0 = (Emax**2 - a**2)/2\n",
    "    Ec = (Emax**2 + a**2)/2\n",
    "    return (ham @ ham - eye(ham.shape[0]) * Ec)/E0\n",
    "\n",
    "\n",
    "G = G_operator(H, 1, -1)\n",
    "F = F_operator(H, 1, a)\n",
    "a_r = a/1"
   ]
  },
  {
   "cell_type": "code",
   "execution_count": 3,
   "id": "53e3621e-2a6b-4ce6-8955-4130ecad2eb6",
   "metadata": {},
   "outputs": [],
   "source": [
    "def low_E_filter(ψ_rand, H, k):\n",
    "    for i in range(k+1):\n",
    "        if i == 0:\n",
    "            ψ_n = ψ_rand\n",
    "            continue\n",
    "            \n",
    "        if i == 1:\n",
    "            ψ_nm1 = ψ_n\n",
    "            ψ_n = H@ψ_nm1\n",
    "            continue\n",
    "            \n",
    "        ψ_np1 = 2*H@ψ_n - ψ_nm1\n",
    "        ψ_nm1 = ψ_n\n",
    "        ψ_n = ψ_np1\n",
    "        \n",
    "    return ψ_n\n",
    "\n",
    "def basis(ψ_proj, H, indices):\n",
    "    ψ_basis = []\n",
    "    k = indices[-1]\n",
    "    for i in range(k+1):\n",
    "        if i == 0:\n",
    "            ψ_n = ψ_proj\n",
    "            continue\n",
    "            \n",
    "        if i == 1:\n",
    "            ψ_nm1 = ψ_n\n",
    "            ψ_n = H@ψ_nm1\n",
    "            continue\n",
    "            \n",
    "        ψ_np1 = 2*H@ψ_n - ψ_nm1\n",
    "        ψ_nm1 = ψ_n\n",
    "        ψ_n = ψ_np1\n",
    "        \n",
    "        if i in indices:\n",
    "            ψ_basis.append(ψ_n)\n",
    "    return ψ_basis"
   ]
  },
  {
   "cell_type": "code",
   "execution_count": 4,
   "id": "1b01dc5a-fe88-4fbc-acfb-d6bcbfd139ec",
   "metadata": {},
   "outputs": [
    {
     "name": "stdout",
     "output_type": "stream",
     "text": [
      "CPU times: user 45.5 ms, sys: 8.21 ms, total: 53.7 ms\n",
      "Wall time: 62.6 ms\n"
     ]
    },
    {
     "data": {
      "text/plain": [
       "[<matplotlib.lines.Line2D at 0x7fc357bd8310>]"
      ]
     },
     "execution_count": 4,
     "metadata": {},
     "output_type": "execute_result"
    },
    {
     "data": {
      "image/png": "[encoded data removed]",
      "text/plain": [
       "<Figure size 432x288 with 1 Axes>"
      ]
     },
     "metadata": {
      "needs_background": "light"
     },
     "output_type": "display_data"
    }
   ],
   "source": [
    "%%time\n",
    "ψ_rand = np.random.rand(N)\n",
    "ψ_rand = ψ_rand/np.linalg.norm(ψ_rand)\n",
    "ψ_proj = low_E_filter(ψ_rand, F, int(12/a))\n",
    "ψ_proj = ψ_proj/np.linalg.norm(ψ_proj)\n",
    "\n",
    "plt.plot(np.log(np.abs(ψ_proj)))"
   ]
  },
  {
   "cell_type": "code",
   "execution_count": 5,
   "id": "3c9ce601-9493-4250-ac5c-fd28851b7a71",
   "metadata": {},
   "outputs": [
    {
     "name": "stdout",
     "output_type": "stream",
     "text": [
      "CPU times: user 8.94 s, sys: 593 ms, total: 9.53 s\n",
      "Wall time: 9.53 s\n"
     ]
    }
   ],
   "source": [
    "%%time\n",
    "d = int(a*N*2)\n",
    "n = int((d*1.5 - 1)/2)\n",
    "Kd = int(n*np.pi/a_r)\n",
    "indices = np.arange(np.pi/a_r, (n+1)*np.pi/a_r, np.pi/a_r).astype(int)\n",
    "\n",
    "ψ_basis = basis(ψ_proj, G, indices) ## The bottleneck step\n",
    "\n",
    "norm = np.linalg.norm(ψ_basis, axis=1)\n",
    "ψ_basis = ψ_basis/norm[:, np.newaxis]\n",
    "\n",
    "\n",
    "S = ψ_basis@ψ_basis.T\n",
    "H_proj = ψ_basis@H@ψ_basis.T"
   ]
  },
  {
   "cell_type": "code",
   "execution_count": 6,
   "id": "1c7ce7fe-ba00-4bb1-ab4e-d2aaebaf808a",
   "metadata": {},
   "outputs": [
    {
     "name": "stdout",
     "output_type": "stream",
     "text": [
      "CPU times: user 4.02 s, sys: 145 ms, total: 4.16 s\n",
      "Wall time: 4.15 s\n"
     ]
    }
   ],
   "source": [
    "%%time\n",
    "s, V = eig(S)\n",
    "indx = np.abs(s)>1e-12\n",
    "lambda_s = np.diag(1/np.sqrt(s[indx]))\n",
    "U = V[:, indx]@lambda_s\n",
    "\n",
    "H_proj_red = U.T.conj()@H_proj@U"
   ]
  },
  {
   "cell_type": "code",
   "execution_count": 8,
   "id": "10f7423b-e810-4b21-bb67-96b5b3df1e21",
   "metadata": {},
   "outputs": [],
   "source": [
    "values = eigvals(H_proj_red)"
   ]
  },
  {
   "cell_type": "code",
   "execution_count": 9,
   "id": "b0bcbb4d-2bc3-49b6-9fb2-215a8a37660f",
   "metadata": {},
   "outputs": [
    {
     "data": {
      "text/plain": [
       "[<matplotlib.lines.Line2D at 0x7fc356933910>]"
      ]
     },
     "execution_count": 9,
     "metadata": {},
     "output_type": "execute_result"
    },
    {
     "data": {
      "image/png": "[encoded data removed]",
      "text/plain": [
       "<Figure size 432x288 with 1 Axes>"
      ]
     },
     "metadata": {
      "needs_background": "light"
     },
     "output_type": "display_data"
    }
   ],
   "source": [
    "plt.plot(np.log10(np.diff(np.sort(np.real(values)))))"
   ]
  },
  {
   "cell_type": "code",
   "execution_count": 10,
   "id": "19caaba3-8a7b-4d3a-be4f-445ef66ed8f7",
   "metadata": {},
   "outputs": [
    {
     "data": {
      "text/plain": [
       "[<matplotlib.lines.Line2D at 0x7fc35690f850>]"
      ]
     },
     "execution_count": 10,
     "metadata": {},
     "output_type": "execute_result"
    },
    {
     "data": {
      "image/png": "[encoded data removed]",
      "text/plain": [
       "<Figure size 432x288 with 1 Axes>"
      ]
     },
     "metadata": {
      "needs_background": "light"
     },
     "output_type": "display_data"
    }
   ],
   "source": [
    "plt.plot(np.sort(np.real(values)))"
   ]
  },
  {
   "cell_type": "code",
   "execution_count": null,
   "id": "98cf6740-fc85-43c7-becc-d02ad47a8fcb",
   "metadata": {},
   "outputs": [],
   "source": []
  }
 ],
 "metadata": {
  "kernelspec": {
   "display_name": "Python 3 (ipykernel)",
   "language": "python",
   "name": "python3"
  },
  "language_info": {
   "codemirror_mode": {
    "name": "ipython",
    "version": 3
   },
   "file_extension": ".py",
   "mimetype": "text/x-python",
   "name": "python",
   "nbconvert_exporter": "python",
   "pygments_lexer": "ipython3",
   "version": "3.9.6"
  }
 },
 "nbformat": 4,
 "nbformat_minor": 5
}
