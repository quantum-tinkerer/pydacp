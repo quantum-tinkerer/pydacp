{
 "cells": [
  {
   "cell_type": "code",
   "execution_count": 15,
   "id": "8843faa1-df8f-4f06-8699-477d2a8f8863",
   "metadata": {},
   "outputs": [],
   "source": [
    "from pyDACP import core\n",
    "import matplotlib.pyplot as plt\n",
    "import numpy as np\n",
    "from scipy.linalg import eigh\n",
    "from scipy.sparse import eye, diags"
   ]
  },
  {
   "cell_type": "code",
   "execution_count": 24,
   "id": "587508ca-8ae9-42e7-99ca-cc7fbd3b3d02",
   "metadata": {},
   "outputs": [
    {
     "data": {
      "text/plain": [
       "(10, 10)"
      ]
     },
     "execution_count": 24,
     "metadata": {},
     "output_type": "execute_result"
    }
   ],
   "source": [
    "N = 100\n",
    "a = 0.4\n",
    "DEG = 10\n",
    "b = np.concatenate((np.ones(int(N/2 - DEG))*-1, np.ones(int(DEG))*0.2, np.ones(int(N/2))*1))\n",
    "H = diags(b, offsets=0)\n",
    "\n",
    "# N = 500\n",
    "# a = 0.4\n",
    "# c = np.random.rand(N-1) + np.random.rand(N-1)*1j\n",
    "# b = np.random.rand(N)\n",
    "# H = diags(c, offsets=-1) + diags(b, offsets=0) + diags(c.conj(), offsets=1)\n",
    "\n",
    "\n",
    "dacp=core.DACP_reduction(H, a=a, eps=0.05, bounds=None, sampling_subspace=1.5)\n",
    "H_red = dacp.get_subspace_matrix()\n",
    "H_red.shape"
   ]
  },
  {
   "cell_type": "code",
   "execution_count": 25,
   "id": "851b5f17-2f33-43bc-99e4-b38494830ebf",
   "metadata": {},
   "outputs": [],
   "source": [
    "true_eigvals, true_eigvecs = eigh(H.todense())\n",
    "eigvalues, eigvectors = eigh(H_red)"
   ]
  },
  {
   "cell_type": "code",
   "execution_count": 26,
   "id": "039ac303-8a2d-4490-9e8f-44123d534d37",
   "metadata": {},
   "outputs": [
    {
     "data": {
      "text/plain": [
       "[<matplotlib.lines.Line2D at 0x7fd74e2b00d0>]"
      ]
     },
     "execution_count": 26,
     "metadata": {},
     "output_type": "execute_result"
    },
    {
     "data": {
      "image/png": "[encoded data removed]",
      "text/plain": [
       "<Figure size 432x288 with 1 Axes>"
      ]
     },
     "metadata": {
      "needs_background": "light"
     },
     "output_type": "display_data"
    }
   ],
   "source": [
    "plt.plot(np.sort(eigvalues))"
   ]
  },
  {
   "cell_type": "code",
   "execution_count": 27,
   "id": "2911b74f-1e08-47da-b66a-231cf177c572",
   "metadata": {},
   "outputs": [
    {
     "data": {
      "text/plain": [
       "[<matplotlib.lines.Line2D at 0x7fd74e27ae80>]"
      ]
     },
     "execution_count": 27,
     "metadata": {},
     "output_type": "execute_result"
    },
    {
     "data": {
      "image/png": "[encoded data removed]",
      "text/plain": [
       "<Figure size 432x288 with 1 Axes>"
      ]
     },
     "metadata": {
      "needs_background": "light"
     },
     "output_type": "display_data"
    }
   ],
   "source": [
    "out_indx = a >= np.abs(true_eigvals)\n",
    "plt.plot(np.sort(np.real(true_eigvals[out_indx])))"
   ]
  },
  {
   "cell_type": "code",
   "execution_count": null,
   "id": "aaf3ac1a-305f-42b8-a66b-aa25f412539f",
   "metadata": {},
   "outputs": [],
   "source": []
  }
 ],
 "metadata": {
  "kernelspec": {
   "display_name": "Python 3 (ipykernel)",
   "language": "python",
   "name": "python3"
  },
  "language_info": {
   "codemirror_mode": {
    "name": "ipython",
    "version": 3
   },
   "file_extension": ".py",
   "mimetype": "text/x-python",
   "name": "python",
   "nbconvert_exporter": "python",
   "pygments_lexer": "ipython3",
   "version": "3.9.6"
  }
 },
 "nbformat": 4,
 "nbformat_minor": 5
}
