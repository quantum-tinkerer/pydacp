{
 "cells": [
  {
   "cell_type": "code",
   "execution_count": 9,
   "id": "8843faa1-df8f-4f06-8699-477d2a8f8863",
   "metadata": {},
   "outputs": [],
   "source": [
    "from pyDACP import core, chebyshev\n",
    "import matplotlib.pyplot as plt\n",
    "from matplotlib import rc\n",
    "import numpy as np\n",
    "from scipy.linalg import eigh, eig\n",
    "from scipy.sparse import eye, diags\n",
    "from itertools import groupby"
   ]
  },
  {
   "cell_type": "code",
   "execution_count": 12,
   "id": "26760a06-7867-4b68-b0ac-8969a776dbf0",
   "metadata": {},
   "outputs": [],
   "source": [
    "N = 100\n",
    "deg_tresh = 1e-12\n",
    "MAX_ITER = 100\n",
    "\n",
    "b = np.concatenate((np.ones(int(N/4))*-1, np.ones(int(N/2))*0.1, np.ones(int(N/4))*1))\n",
    "H = diags(b, offsets=0)\n",
    "\n",
    "\n",
    "def dacp_deg_solver(H):\n",
    "    random_vectors = 2\n",
    "    dacp=core.DACP_reduction(H, a=0.2, eps=0.05, bounds=None, sampling_subspace=1.5, random_vectors=random_vectors)\n",
    "    d_KPM = dacp.estimate_subspace_dimenstion()\n",
    "    n_KPM = int(np.abs((d_KPM*dacp.sampling_subspace - 1)/2))\n",
    "\n",
    "    ham_red=dacp.get_subspace_matrix()\n",
    "    d_red = ham_red.shape[0]\n",
    "\n",
    "    eigvalues = eigh(ham_red, eigvals_only=True)\n",
    "    deg_n = np.abs(np.diff(eigvalues)) < deg_tresh\n",
    "    max_deg = np.max([(x[0], len(list(x[1]))) for x in groupby(deg_n) if x[0]==True]) + 1\n",
    "    \n",
    "    if max_deg > 1:\n",
    "        \n",
    "        if d_KPM > d_red:\n",
    "            d_deg = int(1.5*(d_KPM-d_red))\n",
    "            n_deg = int(np.abs((d_deg*dacp.sampling_subspace - 1)/2))\n",
    "            random_vector_guess = n_deg\n",
    "            print('n KPM', n_KPM)\n",
    "            print('n_deg', n_deg)\n",
    "            \n",
    "        else: \n",
    "            random_vector_guess = 3\n",
    "\n",
    "        for i in range(MAX_ITER):\n",
    "            dacp=core.DACP_reduction(H, a=0.2, eps=0.05, bounds=None, sampling_subspace=1.5, random_vectors=random_vector_guess)\n",
    "        \n",
    "            print('Random Vectors Guess', random_vector_guess)\n",
    "\n",
    "            ham_red=dacp.get_subspace_matrix()\n",
    "            eigvalues = eigh(ham_red, eigvals_only=True)\n",
    "            deg_n = np.abs(np.diff(eigvalues)) < deg_tresh\n",
    "            max_deg = np.max([(x[0], len(list(x[1]))) for x in groupby(deg_n) if x[0]==True]) + 1\n",
    "            print('max_deg', max_deg)\n",
    "            if max_deg < random_vector_guess:\n",
    "                break\n",
    "            else:\n",
    "                random_vector_guess = random_vector_guess + 1\n",
    "                \n",
    "    return ham_red"
   ]
  },
  {
   "cell_type": "code",
   "execution_count": 13,
   "id": "cce673a0-bf8e-4794-b124-5e10ffd055a0",
   "metadata": {},
   "outputs": [
    {
     "name": "stdout",
     "output_type": "stream",
     "text": [
      "n KPM 31\n",
      "n_deg 45\n",
      "Random Vectors Guess 45\n",
      "max_deg 45\n",
      "Random Vectors Guess 46\n",
      "max_deg 46\n",
      "Random Vectors Guess 47\n",
      "max_deg 47\n",
      "Random Vectors Guess 48\n",
      "max_deg 48\n",
      "Random Vectors Guess 49\n",
      "max_deg 49\n",
      "Random Vectors Guess 50\n",
      "max_deg 50\n",
      "Random Vectors Guess 51\n",
      "max_deg 50\n"
     ]
    },
    {
     "data": {
      "text/plain": [
       "array([[ 1.00000000e-01+3.48462578e-16j, -1.05666344e-15+2.12037419e-15j,\n",
       "        -1.61589492e-15-3.38098961e-15j, ...,\n",
       "        -3.00893208e-16-6.96599896e-17j, -1.04672943e-15-1.01830301e-16j,\n",
       "        -2.18280391e-16+2.29125800e-16j],\n",
       "       [-3.02882719e-15-3.30464822e-16j,  1.00000000e-01-2.81892565e-16j,\n",
       "         1.18178037e-15-1.39124823e-15j, ...,\n",
       "         6.10676874e-17+9.74426703e-18j,  1.60717725e-16+1.29900973e-17j,\n",
       "         2.64545330e-17-1.25089826e-16j],\n",
       "       [-1.57859836e-16+2.13468566e-15j, -9.45424294e-17+6.33174069e-16j,\n",
       "         1.00000000e-01+1.05818132e-16j, ...,\n",
       "        -2.30935063e-17+1.22514845e-17j,  8.94602318e-17+2.57860546e-16j,\n",
       "         1.40763323e-16+9.17506088e-17j],\n",
       "       ...,\n",
       "       [-4.02455846e-16-2.22044605e-16j,  4.16333634e-17+4.16333634e-17j,\n",
       "        -1.38777878e-16+0.00000000e+00j, ...,\n",
       "         1.00000000e-01+1.62630326e-19j,  3.39788961e-16+2.60208521e-18j,\n",
       "         3.24718551e-17+8.67361738e-19j],\n",
       "       [-1.33226763e-15+5.55111512e-17j,  4.29344060e-17-3.12250226e-17j,\n",
       "         2.04697370e-16-3.46077333e-16j, ...,\n",
       "         3.43041567e-16-1.47451495e-17j,  1.00000000e-01-6.93889390e-18j,\n",
       "         6.93889390e-17+8.67361738e-19j],\n",
       "       [-4.16333634e-16-1.66533454e-16j, -5.55111512e-17+1.52655666e-16j,\n",
       "         2.60208521e-16-1.11022302e-16j, ...,\n",
       "         3.65376132e-17-1.73472348e-18j,  6.76542156e-17+1.73472348e-18j,\n",
       "         1.00000000e-01-3.46944695e-18j]])"
      ]
     },
     "execution_count": 13,
     "metadata": {},
     "output_type": "execute_result"
    }
   ],
   "source": [
    "dacp_deg_solver(H)"
   ]
  },
  {
   "cell_type": "code",
   "execution_count": null,
   "id": "3155b22d-9b7a-4170-9b99-fa93a531bc78",
   "metadata": {},
   "outputs": [],
   "source": []
  }
 ],
 "metadata": {
  "kernelspec": {
   "display_name": "Python 3 (ipykernel)",
   "language": "python",
   "name": "python3"
  },
  "language_info": {
   "codemirror_mode": {
    "name": "ipython",
    "version": 3
   },
   "file_extension": ".py",
   "mimetype": "text/x-python",
   "name": "python",
   "nbconvert_exporter": "python",
   "pygments_lexer": "ipython3",
   "version": "3.9.6"
  }
 },
 "nbformat": 4,
 "nbformat_minor": 5
}
