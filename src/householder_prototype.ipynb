{
 "cells": [
  {
   "cell_type": "code",
   "execution_count": 1,
   "id": "ab2d3fe5-b61f-4d8b-9b3c-2518a38bdc88",
   "metadata": {},
   "outputs": [],
   "source": [
    "from pyDACP import core\n",
    "import matplotlib.pyplot as plt\n",
    "import numpy as np\n",
    "import scipy\n",
    "from scipy.linalg import eigh\n",
    "from scipy.sparse import eye, diags\n",
    "import math\n",
    "from scipy.linalg.lapack import zlarf, zlarfg"
   ]
  },
  {
   "cell_type": "code",
   "execution_count": 2,
   "id": "05093e24-ef4c-410b-bd38-e4d2ad95370f",
   "metadata": {},
   "outputs": [
    {
     "data": {
      "image/png": "[encoded data removed]",
      "text/plain": [
       "<Figure size 432x288 with 1 Axes>"
      ]
     },
     "metadata": {
      "needs_background": "light"
     },
     "output_type": "display_data"
    },
    {
     "data": {
      "text/plain": [
       "<matplotlib.image.AxesImage at 0x7f1b6ada0550>"
      ]
     },
     "execution_count": 2,
     "metadata": {},
     "output_type": "execute_result"
    },
    {
     "data": {
      "image/png": "[encoded data removed]",
      "text/plain": [
       "<Figure size 288x288 with 1 Axes>"
      ]
     },
     "metadata": {
      "needs_background": "light"
     },
     "output_type": "display_data"
    }
   ],
   "source": [
    "#M = np.random.rand(4, 2) + np.random.rand(4, 2)*1j\n",
    "#M = np.concatenate((M, M), axis=1)\n",
    "M = np.random.rand(5, 5) + np.random.rand(5, 5)*1j\n",
    "M = np.array(M, dtype=np.complex128)\n",
    "\n",
    "r = np.copy(M)\n",
    "N = np.min(np.shape(M))\n",
    "Q = np.eye(N)\n",
    "P = np.eye(N)\n",
    "for i in range(N):\n",
    "    vec = M[:, i]\n",
    "    vec = Q.T.conj() @ vec\n",
    "    beta, v, tau = zlarfg(N-i, vec[i], vec[i+1:])\n",
    "    v = np.array([1, *v])\n",
    "    P_sub = np.eye(N - i) - tau*np.outer(v, v.conj().T)\n",
    "    P = scipy.linalg.block_diag(np.eye(i), P_sub)\n",
    "    r = P.T.conj() @ r\n",
    "    Q = Q @ P\n",
    "plt.plot(np.abs(Q @ r - M).flatten())\n",
    "plt.show()\n",
    "plt.matshow(np.abs(r), vmin=-1, vmax=1, cmap='bwr')"
   ]
  },
  {
   "cell_type": "code",
   "execution_count": 22,
   "id": "363f020c-d558-4a5b-99e4-8b63783f6567",
   "metadata": {},
   "outputs": [],
   "source": [
    "def basis(v_proj, matrix, indices):\n",
    "    count = 0\n",
    "    N = matrix.shape[0]\n",
    "    Q = np.eye(N)\n",
    "    # TODO: If k is too large, the norms of the vectors are from some large order.\n",
    "    k = indices[-1]\n",
    "    for i in range(k+1):\n",
    "        if i == 0:\n",
    "            v_n = v_proj\n",
    "        elif i == 1:\n",
    "            v_nm1 = v_n\n",
    "            v_n = matrix @ v_nm1\n",
    "        else:\n",
    "            v_np1 = 2 * matrix @ v_n - v_nm1\n",
    "            v_nm1 = v_n\n",
    "            v_n = v_np1\n",
    "        if i in indices:\n",
    "            v_n_hh = v_n/np.linalg.norm(v_n)\n",
    "            vec = Q.T.conj() @ v_n_hh\n",
    "            print(vec[count])\n",
    "            if np.abs(vec[count]) < 1e-9:\n",
    "                print('Ended with ' + str(count) + ' vectors.')\n",
    "                basis = Q[:, :count]\n",
    "                return basis/(np.linalg.norm(basis, axis=0))\n",
    "            beta, v_orth, tau = zlarfg(N-count, vec[count], vec[count+1:])\n",
    "            v_orth = np.array([1, *v_orth])\n",
    "            P_sub = np.eye(N - count) - tau * np.outer(v_orth, v_orth.T.conj())\n",
    "            P = scipy.linalg.block_diag(np.eye(count), P_sub)\n",
    "            Q = Q @ P\n",
    "            count += 1\n",
    "    basis = Q[:, :count]\n",
    "    return basis/(np.linalg.norm(basis, axis=0))"
   ]
  },
  {
   "cell_type": "code",
   "execution_count": 27,
   "id": "98af6255-f059-442a-bf1a-b0b412c8b811",
   "metadata": {},
   "outputs": [
    {
     "ename": "ValueError",
     "evalue": "cannot convert float NaN to integer",
     "output_type": "error",
     "traceback": [
      "\u001b[0;31m---------------------------------------------------------------------------\u001b[0m",
      "\u001b[0;31mValueError\u001b[0m                                Traceback (most recent call last)",
      "\u001b[0;32m/tmp/ipykernel_17862/2575800107.py\u001b[0m in \u001b[0;36m<module>\u001b[0;34m\u001b[0m\n\u001b[1;32m     10\u001b[0m \u001b[0;34m\u001b[0m\u001b[0m\n\u001b[1;32m     11\u001b[0m \u001b[0mdacp\u001b[0m\u001b[0;34m=\u001b[0m\u001b[0mcore\u001b[0m\u001b[0;34m.\u001b[0m\u001b[0mDACP_reduction\u001b[0m\u001b[0;34m(\u001b[0m\u001b[0mH\u001b[0m\u001b[0;34m,\u001b[0m \u001b[0ma\u001b[0m\u001b[0;34m=\u001b[0m\u001b[0ma\u001b[0m\u001b[0;34m,\u001b[0m \u001b[0meps\u001b[0m\u001b[0;34m=\u001b[0m\u001b[0;36m0.1\u001b[0m\u001b[0;34m,\u001b[0m \u001b[0mbounds\u001b[0m\u001b[0;34m=\u001b[0m\u001b[0;32mNone\u001b[0m\u001b[0;34m,\u001b[0m \u001b[0msampling_subspace\u001b[0m\u001b[0;34m=\u001b[0m\u001b[0;36m5\u001b[0m\u001b[0;34m)\u001b[0m\u001b[0;34m\u001b[0m\u001b[0;34m\u001b[0m\u001b[0m\n\u001b[0;32m---> 12\u001b[0;31m \u001b[0mdacp\u001b[0m\u001b[0;34m.\u001b[0m\u001b[0mestimate_subspace_dimenstion\u001b[0m\u001b[0;34m(\u001b[0m\u001b[0;34m)\u001b[0m\u001b[0;34m\u001b[0m\u001b[0;34m\u001b[0m\u001b[0m\n\u001b[0m\u001b[1;32m     13\u001b[0m \u001b[0;34m\u001b[0m\u001b[0m\n\u001b[1;32m     14\u001b[0m \u001b[0mv_proj\u001b[0m\u001b[0;34m=\u001b[0m\u001b[0mdacp\u001b[0m\u001b[0;34m.\u001b[0m\u001b[0mget_filtered_vector\u001b[0m\u001b[0;34m(\u001b[0m\u001b[0;34m)\u001b[0m\u001b[0;34m\u001b[0m\u001b[0;34m\u001b[0m\u001b[0m\n",
      "\u001b[0;32m~/Sync/pyDACP/src/pyDACP/core.py\u001b[0m in \u001b[0;36mestimate_subspace_dimenstion\u001b[0;34m(self)\u001b[0m\n\u001b[1;32m     85\u001b[0m             \u001b[0mbounds\u001b[0m\u001b[0;34m=\u001b[0m\u001b[0mself\u001b[0m\u001b[0;34m.\u001b[0m\u001b[0mbounds\u001b[0m\u001b[0;34m\u001b[0m\u001b[0;34m\u001b[0m\u001b[0m\n\u001b[1;32m     86\u001b[0m         )\n\u001b[0;32m---> 87\u001b[0;31m         \u001b[0;32mreturn\u001b[0m \u001b[0mint\u001b[0m\u001b[0;34m(\u001b[0m\u001b[0mnp\u001b[0m\u001b[0;34m.\u001b[0m\u001b[0mabs\u001b[0m\u001b[0;34m(\u001b[0m\u001b[0mquad\u001b[0m\u001b[0;34m(\u001b[0m\u001b[0mdos_estimate\u001b[0m\u001b[0;34m,\u001b[0m \u001b[0;34m-\u001b[0m\u001b[0mself\u001b[0m\u001b[0;34m.\u001b[0m\u001b[0ma\u001b[0m\u001b[0;34m,\u001b[0m \u001b[0mself\u001b[0m\u001b[0;34m.\u001b[0m\u001b[0ma\u001b[0m\u001b[0;34m)\u001b[0m\u001b[0;34m)\u001b[0m\u001b[0;34m[\u001b[0m\u001b[0;36m0\u001b[0m\u001b[0;34m]\u001b[0m\u001b[0;34m)\u001b[0m\u001b[0;34m\u001b[0m\u001b[0;34m\u001b[0m\u001b[0m\n\u001b[0m\u001b[1;32m     88\u001b[0m \u001b[0;34m\u001b[0m\u001b[0m\n\u001b[1;32m     89\u001b[0m     \u001b[0;32mdef\u001b[0m \u001b[0msvd_matrix\u001b[0m\u001b[0;34m(\u001b[0m\u001b[0mself\u001b[0m\u001b[0;34m,\u001b[0m \u001b[0mmatrix_proj\u001b[0m\u001b[0;34m,\u001b[0m \u001b[0mS\u001b[0m\u001b[0;34m)\u001b[0m\u001b[0;34m:\u001b[0m\u001b[0;34m\u001b[0m\u001b[0;34m\u001b[0m\u001b[0m\n",
      "\u001b[0;31mValueError\u001b[0m: cannot convert float NaN to integer"
     ]
    }
   ],
   "source": [
    "# +\n",
    "N = 500\n",
    "a = 0.1\n",
    "c = 1e-10 * (np.random.rand(N-1) + np.random.rand(N-1)*1j)\n",
    "b = np.random.rand(N)\n",
    "H = diags(c, offsets=-1) + diags(b, offsets=0) + diags(c.conj(), offsets=1)\n",
    "# b = np.linspace(-1, 1, N)\n",
    "# H = diags(b, offsets=0)\n",
    "\n",
    "\n",
    "dacp=core.DACP_reduction(H, a=a, eps=0.1, bounds=None, sampling_subspace=5)\n",
    "dacp.estimate_subspace_dimenstion()\n",
    "\n",
    "v_proj=dacp.get_filtered_vector()\n",
    "d = dacp.estimate_subspace_dimenstion()\n",
    "print(d)\n",
    "n = math.ceil(np.abs((d*dacp.sampling_subspace - 1)/2))\n",
    "a_r = dacp.a / np.max(np.abs(dacp.bounds))\n",
    "n_array = np.arange(1, n+1, 1)\n",
    "indicesp1 = (n_array*np.pi/a_r).astype(int)\n",
    "indices = np.sort(np.array([*indicesp1, *indicesp1-1]))\n",
    "vbasis=basis(v_proj=v_proj, matrix=dacp.G_operator(), indices=indices)\n",
    "S = vbasis.conj().T@vbasis\n",
    "plt.matshow(np.abs(S) - np.eye(np.shape(S)[0]))\n",
    "plt.colorbar()"
   ]
  },
  {
   "cell_type": "code",
   "execution_count": 24,
   "id": "e5cf64f6-888e-42be-9a24-3fb67034a6d9",
   "metadata": {},
   "outputs": [
    {
     "data": {
      "text/plain": [
       "<matplotlib.image.AxesImage at 0x7f1b69b195b0>"
      ]
     },
     "execution_count": 24,
     "metadata": {},
     "output_type": "execute_result"
    },
    {
     "data": {
      "image/png": "[encoded data removed]",
      "text/plain": [
       "<Figure size 288x288 with 1 Axes>"
      ]
     },
     "metadata": {
      "needs_background": "light"
     },
     "output_type": "display_data"
    }
   ],
   "source": [
    "H_red = vbasis.T.conj() @ H @ vbasis\n",
    "plt.matshow(np.abs(H_red))"
   ]
  },
  {
   "cell_type": "code",
   "execution_count": 25,
   "id": "2a047867-23bf-43fb-b8f5-de1b10117b34",
   "metadata": {},
   "outputs": [
    {
     "data": {
      "text/plain": [
       "[<matplotlib.lines.Line2D at 0x7f1b69a7ff70>]"
      ]
     },
     "execution_count": 25,
     "metadata": {},
     "output_type": "execute_result"
    },
    {
     "data": {
      "image/png": "[encoded data removed]",
      "text/plain": [
       "<Figure size 432x288 with 1 Axes>"
      ]
     },
     "metadata": {
      "needs_background": "light"
     },
     "output_type": "display_data"
    }
   ],
   "source": [
    "plt.plot(eigh(H_red, eigvals_only=True), 'o')\n",
    "true_eig = eigh(H.todense(), eigvals_only=True)\n",
    "idx = np.abs(true_eig) < 0.1\n",
    "plt.plot(true_eig[idx], 'x', c='k')\n",
    "# plt.ylim(-a, a)"
   ]
  },
  {
   "cell_type": "code",
   "execution_count": null,
   "id": "3de304c7-c22c-4d4d-bda3-dde3aa3ede22",
   "metadata": {},
   "outputs": [],
   "source": []
  },
  {
   "cell_type": "code",
   "execution_count": 7,
   "id": "076e5e5f-fbd0-4ac7-b5da-9ad9464b3c51",
   "metadata": {},
   "outputs": [],
   "source": [
    "b = np.linspace(-1, 1, N)\n",
    "H = diags(b, offsets=0)"
   ]
  },
  {
   "cell_type": "code",
   "execution_count": 8,
   "id": "cb4064f2-e28e-4c71-b08a-936689c75c46",
   "metadata": {},
   "outputs": [],
   "source": [
    "q,r=np.linalg.qr(H.todense())"
   ]
  },
  {
   "cell_type": "code",
   "execution_count": 9,
   "id": "c796b0a5-27c6-4855-bb87-02c9e252db38",
   "metadata": {},
   "outputs": [
    {
     "data": {
      "text/plain": [
       "<matplotlib.image.AxesImage at 0x7f1b6a0d2b20>"
      ]
     },
     "execution_count": 9,
     "metadata": {},
     "output_type": "execute_result"
    },
    {
     "data": {
      "image/png": "[encoded data removed]",
      "text/plain": [
       "<Figure size 288x288 with 1 Axes>"
      ]
     },
     "metadata": {
      "needs_background": "light"
     },
     "output_type": "display_data"
    }
   ],
   "source": [
    "plt.matshow(q)"
   ]
  },
  {
   "cell_type": "code",
   "execution_count": 107,
   "id": "cd7c1210-b3ce-4558-9953-e27563ce5a03",
   "metadata": {},
   "outputs": [
    {
     "data": {
      "text/plain": [
       "<matplotlib.image.AxesImage at 0x7ff32f33ed60>"
      ]
     },
     "execution_count": 107,
     "metadata": {},
     "output_type": "execute_result"
    },
    {
     "data": {
      "image/png": "[encoded data removed]",
      "text/plain": [
       "<Figure size 288x288 with 1 Axes>"
      ]
     },
     "metadata": {
      "needs_background": "light"
     },
     "output_type": "display_data"
    }
   ],
   "source": [
    "plt.matshow(r)"
   ]
  },
  {
   "cell_type": "code",
   "execution_count": null,
   "id": "ae6b716f-1377-4c22-89bd-5a1dd0bcf1da",
   "metadata": {},
   "outputs": [],
   "source": []
  }
 ],
 "metadata": {
  "kernelspec": {
   "display_name": "Python 3 (ipykernel)",
   "language": "python",
   "name": "python3"
  },
  "language_info": {
   "codemirror_mode": {
    "name": "ipython",
    "version": 3
   },
   "file_extension": ".py",
   "mimetype": "text/x-python",
   "name": "python",
   "nbconvert_exporter": "python",
   "pygments_lexer": "ipython3",
   "version": "3.9.7"
  },
  "widgets": {
   "application/vnd.jupyter.widget-state+json": {
    "state": {},
    "version_major": 2,
    "version_minor": 0
   }
  }
 },
 "nbformat": 4,
 "nbformat_minor": 5
}
