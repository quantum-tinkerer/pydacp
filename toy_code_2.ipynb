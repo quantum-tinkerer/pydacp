{
 "cells": [
  {
   "cell_type": "code",
   "execution_count": 1,
   "id": "112b25c6-2aa7-4daf-a5be-31b88911056c",
   "metadata": {},
   "outputs": [],
   "source": [
    "import matplotlib.pyplot as plt\n",
    "from scipy.sparse.linalg import eigsh\n",
    "from scipy.sparse import eye, diags\n",
    "import numpy as np"
   ]
  },
  {
   "cell_type": "code",
   "execution_count": 91,
   "id": "dacb7cc6-4c5e-42d4-a46b-38eea5372cff",
   "metadata": {},
   "outputs": [],
   "source": [
    "N=10000\n",
    "hamiltonian=diags(np.linspace(-1, 1, N))\n",
    "Emin, Emax=-1, 1"
   ]
  },
  {
   "cell_type": "code",
   "execution_count": 167,
   "id": "675d02b6-a6a3-4abe-9e04-61221006bfab",
   "metadata": {},
   "outputs": [],
   "source": [
    "def F_operator(ham, Emax, a):\n",
    "    Emax=Emax+0.01\n",
    "    E0 = (Emax**2 - a**2)/2\n",
    "    Ec = (Emax**2 + a**2)/2\n",
    "    return (ham @ ham - eye(ham.shape[0]) * Ec)/E0\n",
    "\n",
    "a=0.05\n",
    "\n",
    "F=F_operator(hamiltonian, np.max(np.abs([Emin, Emax])), a=a)"
   ]
  },
  {
   "cell_type": "code",
   "execution_count": 168,
   "id": "c154b31c-0e62-4a49-b16d-f36f8c30b86c",
   "metadata": {},
   "outputs": [],
   "source": [
    "def chebyshev(ψ , ham, k):\n",
    "    if k==0:\n",
    "        return ψ\n",
    "    else:\n",
    "        for i in range(k):\n",
    "            if i==0:\n",
    "                ψ_n=ψ\n",
    "                continue\n",
    "            if i==1:\n",
    "                ψ_nm1=ψ_n\n",
    "                ψ_n=ham@ψ_nm1\n",
    "                continue\n",
    "            ψ_np1=2*ham@ψ_n - ψ_nm1\n",
    "            ψ_nm1=ψ_n\n",
    "            ψ_n=ψ_np1\n",
    "        return ψ_n"
   ]
  },
  {
   "cell_type": "code",
   "execution_count": 169,
   "id": "9a996765-a583-43db-b2da-6aa4c9f22552",
   "metadata": {},
   "outputs": [],
   "source": [
    "K=int(12 * np.max(np.abs([Emin, Emax])) / a)\n",
    "ψ=np.random.rand(hamiltonian.shape[0])\n",
    "ψ=ψ/np.linalg.norm(ψ)\n",
    "T_K_ψ=chebyshev(ψ, F, K)"
   ]
  },
  {
   "cell_type": "code",
   "execution_count": 170,
   "id": "ac5b9e87-8b29-4a6e-9925-38186d55ac90",
   "metadata": {},
   "outputs": [],
   "source": [
    "T_K_ψ=T_K_ψ/np.linalg.norm(T_K_ψ)"
   ]
  },
  {
   "cell_type": "code",
   "execution_count": 171,
   "id": "002df806-99bc-420e-a8db-e8661de220ab",
   "metadata": {},
   "outputs": [
    {
     "data": {
      "text/plain": [
       "[<matplotlib.lines.Line2D at 0x7f4dc7a6c670>]"
      ]
     },
     "execution_count": 171,
     "metadata": {},
     "output_type": "execute_result"
    },
    {
     "data": {
      "image/png": "[encoded data removed]",
      "text/plain": [
       "<Figure size 432x288 with 1 Axes>"
      ]
     },
     "metadata": {
      "needs_background": "light"
     },
     "output_type": "display_data"
    }
   ],
   "source": [
    "plt.plot(np.log(np.abs(T_K_ψ)))"
   ]
  },
  {
   "cell_type": "code",
   "execution_count": 172,
   "id": "5a00d86b-2270-4643-b79c-37f80a3c3be3",
   "metadata": {},
   "outputs": [],
   "source": [
    "def G_operator(ham, Emax, Emin, a):\n",
    "    Emax=Emax+0.05\n",
    "    Emin=Emin-0.05\n",
    "    E0 = (Emax - Emin)/2\n",
    "    Ec = (Emax + Emin)/2\n",
    "    return (ham - eye(ham.shape[0]) * Ec)/E0"
   ]
  },
  {
   "cell_type": "code",
   "execution_count": 173,
   "id": "e6464af3-5b29-4c7a-ae23-dab6ca9e841c",
   "metadata": {},
   "outputs": [],
   "source": [
    "d = int(1.5 * 2 * N * a / Emax)\n",
    "n=int((d * 1.5 - 1) / 2)\n",
    "a_r = a / np.max(np.abs([Emin, Emax]))\n",
    "K_d=int(n * np.pi / a_r)\n",
    "K_d=d\n",
    "G=G_operator(hamiltonian, Emax, Emin, a)\n",
    "evolution=[]\n",
    "m=1\n",
    "while int(m * np.pi / a_r) < K_d:\n",
    "    k=int(m * np.pi / a_r)\n",
    "    v=chebyshev(T_K_ψ, G, k)\n",
    "    v=v/np.linalg.norm(v)\n",
    "    evolution.append(v)\n",
    "    m+=1\n",
    "\n",
    "# for n in range(K_d):\n",
    "#     v=chebyshev(T_K_ψ, G, k)\n",
    "#     v=v/np.linalg.norm(v)\n",
    "#     evolution.append(v)\n",
    "evolution=np.asarray(evolution)"
   ]
  },
  {
   "cell_type": "code",
   "execution_count": 174,
   "id": "08d2da53-6f14-4550-8140-83993457e40f",
   "metadata": {},
   "outputs": [],
   "source": [
    "n = evolution.shape[0]\n",
    "H_sub=np.zeros((n, n))\n",
    "S_sub=np.zeros((n, n))\n",
    "for i in range(n):\n",
    "    for j in range(n):\n",
    "        v_i = evolution[i]\n",
    "        v_j = evolution[j]\n",
    "        H_sub[i, j]=np.dot(v_i.conj(), hamiltonian @ v_j)\n",
    "        S_sub[i, j]=np.dot(v_i.conj(), v_j)"
   ]
  },
  {
   "cell_type": "code",
   "execution_count": 175,
   "id": "0fb3be74-72eb-47d9-a73f-eca31897941a",
   "metadata": {},
   "outputs": [
    {
     "data": {
      "image/png": "[encoded data removed]",
      "text/plain": [
       "<Figure size 288x288 with 2 Axes>"
      ]
     },
     "metadata": {
      "needs_background": "light"
     },
     "output_type": "display_data"
    }
   ],
   "source": [
    "plt.matshow(H_sub, cmap='bwr')\n",
    "plt.colorbar()\n",
    "plt.show()"
   ]
  },
  {
   "cell_type": "code",
   "execution_count": 176,
   "id": "51c4b7b9-d3b7-4f77-873c-30867c7a5b7b",
   "metadata": {},
   "outputs": [
    {
     "data": {
      "image/png": "[encoded data removed]",
      "text/plain": [
       "<Figure size 288x288 with 2 Axes>"
      ]
     },
     "metadata": {
      "needs_background": "light"
     },
     "output_type": "display_data"
    }
   ],
   "source": [
    "plt.matshow(S_sub, cmap='bwr', vmin=-1, vmax=1)\n",
    "plt.colorbar()\n",
    "plt.show()"
   ]
  },
  {
   "cell_type": "code",
   "execution_count": 177,
   "id": "ccb473e1-6592-48f6-a0be-71306f065c58",
   "metadata": {},
   "outputs": [],
   "source": [
    "import scipy.linalg as la\n",
    "eigvals = la.eigvals(H_sub, S_sub)"
   ]
  },
  {
   "cell_type": "code",
   "execution_count": 178,
   "id": "f6c57e25-b9cc-4cda-bc24-6123135ec161",
   "metadata": {},
   "outputs": [
    {
     "name": "stderr",
     "output_type": "stream",
     "text": [
      "/opt/conda/lib/python3.9/site-packages/numpy/core/_asarray.py:102: ComplexWarning: Casting complex values to real discards the imaginary part\n",
      "  return array(a, dtype, copy=False, order=order)\n"
     ]
    },
    {
     "data": {
      "text/plain": [
       "(-0.05, 0.05)"
      ]
     },
     "execution_count": 178,
     "metadata": {},
     "output_type": "execute_result"
    },
    {
     "data": {
      "image/png": "[encoded data removed]",
      "text/plain": [
       "<Figure size 432x288 with 1 Axes>"
      ]
     },
     "metadata": {
      "needs_background": "light"
     },
     "output_type": "display_data"
    }
   ],
   "source": [
    "plt.plot(np.sort(eigvals), 'o')\n",
    "plt.ylim(-a, a)"
   ]
  },
  {
   "cell_type": "code",
   "execution_count": 154,
   "id": "25c76b9d-0a35-452a-ba76-334796ab487e",
   "metadata": {
    "tags": []
   },
   "outputs": [
    {
     "name": "stderr",
     "output_type": "stream",
     "text": [
      "/opt/conda/lib/python3.9/site-packages/scipy/sparse/linalg/eigen/arpack/arpack.py:536: ComplexWarning: Casting complex values to real discards the imaginary part\n",
      "  self._arpack_solver(self.ido, self.bmat, self.which, self.k,\n"
     ]
    }
   ],
   "source": [
    "import kwant\n",
    "\n",
    "dos = kwant.kpm.SpectralDensity(\n",
    "    H_sub,\n",
    "    mean=True,\n",
    "#     bounds=(-a, a)\n",
    ")"
   ]
  },
  {
   "cell_type": "code",
   "execution_count": 155,
   "id": "2cc253cf-dfad-471b-9fd6-ff7c612254e2",
   "metadata": {},
   "outputs": [
    {
     "name": "stderr",
     "output_type": "stream",
     "text": [
      "/opt/conda/lib/python3.9/site-packages/numpy/core/_asarray.py:102: ComplexWarning: Casting complex values to real discards the imaginary part\n",
      "  return array(a, dtype, copy=False, order=order)\n"
     ]
    },
    {
     "data": {
      "image/png": "[encoded data removed]",
      "text/plain": [
       "<Figure size 432x288 with 1 Axes>"
      ]
     },
     "metadata": {
      "needs_background": "light"
     },
     "output_type": "display_data"
    }
   ],
   "source": [
    "plt.plot(*dos())\n",
    "plt.axvline(-a, c='k')\n",
    "plt.axvline(a, c='k')\n",
    "# plt.xlim(-a, a)\n",
    "# plt.ylim(-1e59, 1e59)\n",
    "plt.axhline(0)\n",
    "plt.show()"
   ]
  },
  {
   "cell_type": "code",
   "execution_count": 156,
   "id": "cae8770b-04e0-4f1f-86ac-e050fadb5212",
   "metadata": {
    "tags": []
   },
   "outputs": [],
   "source": [
    "import kwant\n",
    "\n",
    "dos = kwant.kpm.SpectralDensity(\n",
    "    hamiltonian,\n",
    "    vector_factory=evolution,\n",
    "    num_vectors=None,\n",
    "    mean=True,\n",
    "    bounds=(-1, 1),\n",
    "    energy_resolution=0.001\n",
    ")"
   ]
  },
  {
   "cell_type": "code",
   "execution_count": 157,
   "id": "a6e10b36-13fa-4a91-ae2a-10349c1dd6e6",
   "metadata": {},
   "outputs": [
    {
     "data": {
      "text/plain": [
       "(95, 10000)"
      ]
     },
     "execution_count": 157,
     "metadata": {},
     "output_type": "execute_result"
    }
   ],
   "source": [
    "np.shape(evolution)"
   ]
  },
  {
   "cell_type": "code",
   "execution_count": 158,
   "id": "19240157-86cc-4a96-b741-596b37657b3b",
   "metadata": {},
   "outputs": [
    {
     "data": {
      "text/plain": [
       "(-0.1, 0.1)"
      ]
     },
     "execution_count": 158,
     "metadata": {},
     "output_type": "execute_result"
    },
    {
     "data": {
      "image/png": "[encoded data removed]",
      "text/plain": [
       "<Figure size 432x288 with 1 Axes>"
      ]
     },
     "metadata": {
      "needs_background": "light"
     },
     "output_type": "display_data"
    }
   ],
   "source": [
    "plt.plot(*dos())\n",
    "plt.xlim(-a, a)"
   ]
  },
  {
   "cell_type": "code",
   "execution_count": null,
   "id": "d5faf28e-07d9-4c16-9f15-11866009584a",
   "metadata": {},
   "outputs": [],
   "source": []
  }
 ],
 "metadata": {
  "kernelspec": {
   "display_name": "Python 3 (ipykernel)",
   "language": "python",
   "name": "python3"
  },
  "language_info": {
   "codemirror_mode": {
    "name": "ipython",
    "version": 3
   },
   "file_extension": ".py",
   "mimetype": "text/x-python",
   "name": "python",
   "nbconvert_exporter": "python",
   "pygments_lexer": "ipython3",
   "version": "3.9.6"
  },
  "widgets": {
   "application/vnd.jupyter.widget-state+json": {
    "state": {},
    "version_major": 2,
    "version_minor": 0
   }
  }
 },
 "nbformat": 4,
 "nbformat_minor": 5
}
